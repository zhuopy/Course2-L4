{
 "cells": [
  {
   "cell_type": "markdown",
   "metadata": {},
   "source": [
    "# Lesson 4 Assignment - Automobile Price Hypothesis Testing\n",
    "## Author - "
   ]
  },
  {
   "cell_type": "markdown",
   "metadata": {},
   "source": [
    "### Instructions\n",
    "Test hypotheses for the price of automobiles:\n",
    "\n",
    "1. Compare and test the normality of the distributions of **price** and **log price**. <br/>\n",
    "Use both a graphical method and a formal test. Hint: remember these relationships will always be approximate.\n",
    "\n",
    "2. Test significance of **price (or log price)** stratified by \n",
    "a) **fuel type**, b) **aspiration**, and c) **rear vs. front wheel drive**. <br />Use both graphical methods and the formal test.\n",
    "\n",
    "3. Apply ANOVA and Tukey's HSD test to the auto price data to compare the **price (or log price** if closer to a normal distribution) of autos stratified by **body style**.\n",
    "\n",
    "4. Graphically explore the differences between the price conditioned by the categories of each variable. <br/>\n",
    "Hint: Make sure you have enough data for each category and drop categories with insufficient data.\n",
    "\n",
    "5. Use standard ANOVA and Tukey HSD to test the differences of these groups.\n"
   ]
  },
  {
   "cell_type": "markdown",
   "metadata": {},
   "source": [
    "#### Note: \n",
    "Please clearly outline the results of these tests with markdown text. Be sure your discussion includes narrative for your figures and tables so it is clear to the reader the importance of each bit of evidence."
   ]
  },
  {
   "cell_type": "code",
   "execution_count": 1,
   "metadata": {},
   "outputs": [],
   "source": [
    "# Cleaned up Dataset location\n",
    "fileName = \"https://library.startlearninglabs.uw.edu/DATASCI410/Datasets/Automobile%20price%20data%20_Raw_.csv\""
   ]
  },
  {
   "cell_type": "code",
   "execution_count": 2,
   "metadata": {},
   "outputs": [],
   "source": [
    "# Import libraries\n",
    "import pandas as pd\n",
    "import numpy as np\n",
    "import matplotlib.pyplot as plt\n",
    "from sklearn.preprocessing import scale\n",
    "import numpy.random as nr\n",
    "import scipy.stats as ss\n",
    "%matplotlib inline"
   ]
  },
  {
   "cell_type": "code",
   "execution_count": 3,
   "metadata": {},
   "outputs": [
    {
     "data": {
      "text/html": [
       "<div>\n",
       "<style scoped>\n",
       "    .dataframe tbody tr th:only-of-type {\n",
       "        vertical-align: middle;\n",
       "    }\n",
       "\n",
       "    .dataframe tbody tr th {\n",
       "        vertical-align: top;\n",
       "    }\n",
       "\n",
       "    .dataframe thead th {\n",
       "        text-align: right;\n",
       "    }\n",
       "</style>\n",
       "<table border=\"1\" class=\"dataframe\">\n",
       "  <thead>\n",
       "    <tr style=\"text-align: right;\">\n",
       "      <th></th>\n",
       "      <th>symboling</th>\n",
       "      <th>normalized-losses</th>\n",
       "      <th>make</th>\n",
       "      <th>fuel-type</th>\n",
       "      <th>aspiration</th>\n",
       "      <th>num-of-doors</th>\n",
       "      <th>body-style</th>\n",
       "    </tr>\n",
       "  </thead>\n",
       "  <tbody>\n",
       "    <tr>\n",
       "      <th>0</th>\n",
       "      <td>3</td>\n",
       "      <td>?</td>\n",
       "      <td>alfa-romero</td>\n",
       "      <td>gas</td>\n",
       "      <td>std</td>\n",
       "      <td>two</td>\n",
       "      <td>convertible</td>\n",
       "    </tr>\n",
       "    <tr>\n",
       "      <th>1</th>\n",
       "      <td>3</td>\n",
       "      <td>?</td>\n",
       "      <td>alfa-romero</td>\n",
       "      <td>gas</td>\n",
       "      <td>std</td>\n",
       "      <td>two</td>\n",
       "      <td>convertible</td>\n",
       "    </tr>\n",
       "    <tr>\n",
       "      <th>2</th>\n",
       "      <td>1</td>\n",
       "      <td>?</td>\n",
       "      <td>alfa-romero</td>\n",
       "      <td>gas</td>\n",
       "      <td>std</td>\n",
       "      <td>two</td>\n",
       "      <td>hatchback</td>\n",
       "    </tr>\n",
       "    <tr>\n",
       "      <th>3</th>\n",
       "      <td>2</td>\n",
       "      <td>164</td>\n",
       "      <td>audi</td>\n",
       "      <td>gas</td>\n",
       "      <td>std</td>\n",
       "      <td>four</td>\n",
       "      <td>sedan</td>\n",
       "    </tr>\n",
       "    <tr>\n",
       "      <th>4</th>\n",
       "      <td>2</td>\n",
       "      <td>164</td>\n",
       "      <td>audi</td>\n",
       "      <td>gas</td>\n",
       "      <td>std</td>\n",
       "      <td>four</td>\n",
       "      <td>sedan</td>\n",
       "    </tr>\n",
       "  </tbody>\n",
       "</table>\n",
       "</div>"
      ],
      "text/plain": [
       "   symboling normalized-losses         make fuel-type aspiration num-of-doors  \\\n",
       "0          3                 ?  alfa-romero       gas        std          two   \n",
       "1          3                 ?  alfa-romero       gas        std          two   \n",
       "2          1                 ?  alfa-romero       gas        std          two   \n",
       "3          2               164         audi       gas        std         four   \n",
       "4          2               164         audi       gas        std         four   \n",
       "\n",
       "    body-style  \n",
       "0  convertible  \n",
       "1  convertible  \n",
       "2    hatchback  \n",
       "3        sedan  \n",
       "4        sedan  "
      ]
     },
     "execution_count": 3,
     "metadata": {},
     "output_type": "execute_result"
    }
   ],
   "source": [
    "#read data\n",
    "df = pd.read_csv(fileName)\n",
    "#showing the first seven columns of the dataframe\n",
    "df.iloc[::,:7].head() "
   ]
  },
  {
   "cell_type": "markdown",
   "metadata": {},
   "source": [
    "It's apparent that some missing values in normalized-losses. "
   ]
  },
  {
   "cell_type": "code",
   "execution_count": 4,
   "metadata": {},
   "outputs": [
    {
     "data": {
      "text/html": [
       "<div>\n",
       "<style scoped>\n",
       "    .dataframe tbody tr th:only-of-type {\n",
       "        vertical-align: middle;\n",
       "    }\n",
       "\n",
       "    .dataframe tbody tr th {\n",
       "        vertical-align: top;\n",
       "    }\n",
       "\n",
       "    .dataframe thead th {\n",
       "        text-align: right;\n",
       "    }\n",
       "</style>\n",
       "<table border=\"1\" class=\"dataframe\">\n",
       "  <thead>\n",
       "    <tr style=\"text-align: right;\">\n",
       "      <th></th>\n",
       "      <th>drive-wheels</th>\n",
       "      <th>engine-location</th>\n",
       "      <th>wheel-base</th>\n",
       "      <th>length</th>\n",
       "      <th>width</th>\n",
       "      <th>height</th>\n",
       "      <th>curb-weight</th>\n",
       "      <th>engine-type</th>\n",
       "    </tr>\n",
       "  </thead>\n",
       "  <tbody>\n",
       "    <tr>\n",
       "      <th>0</th>\n",
       "      <td>rwd</td>\n",
       "      <td>front</td>\n",
       "      <td>88.6</td>\n",
       "      <td>168.8</td>\n",
       "      <td>64.1</td>\n",
       "      <td>48.8</td>\n",
       "      <td>2548</td>\n",
       "      <td>dohc</td>\n",
       "    </tr>\n",
       "    <tr>\n",
       "      <th>1</th>\n",
       "      <td>rwd</td>\n",
       "      <td>front</td>\n",
       "      <td>88.6</td>\n",
       "      <td>168.8</td>\n",
       "      <td>64.1</td>\n",
       "      <td>48.8</td>\n",
       "      <td>2548</td>\n",
       "      <td>dohc</td>\n",
       "    </tr>\n",
       "    <tr>\n",
       "      <th>2</th>\n",
       "      <td>rwd</td>\n",
       "      <td>front</td>\n",
       "      <td>94.5</td>\n",
       "      <td>171.2</td>\n",
       "      <td>65.5</td>\n",
       "      <td>52.4</td>\n",
       "      <td>2823</td>\n",
       "      <td>ohcv</td>\n",
       "    </tr>\n",
       "    <tr>\n",
       "      <th>3</th>\n",
       "      <td>fwd</td>\n",
       "      <td>front</td>\n",
       "      <td>99.8</td>\n",
       "      <td>176.6</td>\n",
       "      <td>66.2</td>\n",
       "      <td>54.3</td>\n",
       "      <td>2337</td>\n",
       "      <td>ohc</td>\n",
       "    </tr>\n",
       "    <tr>\n",
       "      <th>4</th>\n",
       "      <td>4wd</td>\n",
       "      <td>front</td>\n",
       "      <td>99.4</td>\n",
       "      <td>176.6</td>\n",
       "      <td>66.4</td>\n",
       "      <td>54.3</td>\n",
       "      <td>2824</td>\n",
       "      <td>ohc</td>\n",
       "    </tr>\n",
       "  </tbody>\n",
       "</table>\n",
       "</div>"
      ],
      "text/plain": [
       "  drive-wheels engine-location  wheel-base  length  width  height  \\\n",
       "0          rwd           front        88.6   168.8   64.1    48.8   \n",
       "1          rwd           front        88.6   168.8   64.1    48.8   \n",
       "2          rwd           front        94.5   171.2   65.5    52.4   \n",
       "3          fwd           front        99.8   176.6   66.2    54.3   \n",
       "4          4wd           front        99.4   176.6   66.4    54.3   \n",
       "\n",
       "   curb-weight engine-type  \n",
       "0         2548        dohc  \n",
       "1         2548        dohc  \n",
       "2         2823        ohcv  \n",
       "3         2337         ohc  \n",
       "4         2824         ohc  "
      ]
     },
     "execution_count": 4,
     "metadata": {},
     "output_type": "execute_result"
    }
   ],
   "source": [
    "#show the seventh columns to fifteenth columns\n",
    "df.iloc[::,7:15].head()"
   ]
  },
  {
   "cell_type": "code",
   "execution_count": 5,
   "metadata": {},
   "outputs": [
    {
     "data": {
      "text/html": [
       "<div>\n",
       "<style scoped>\n",
       "    .dataframe tbody tr th:only-of-type {\n",
       "        vertical-align: middle;\n",
       "    }\n",
       "\n",
       "    .dataframe tbody tr th {\n",
       "        vertical-align: top;\n",
       "    }\n",
       "\n",
       "    .dataframe thead th {\n",
       "        text-align: right;\n",
       "    }\n",
       "</style>\n",
       "<table border=\"1\" class=\"dataframe\">\n",
       "  <thead>\n",
       "    <tr style=\"text-align: right;\">\n",
       "      <th></th>\n",
       "      <th>num-of-cylinders</th>\n",
       "      <th>engine-size</th>\n",
       "      <th>fuel-system</th>\n",
       "      <th>bore</th>\n",
       "      <th>stroke</th>\n",
       "      <th>compression-ratio</th>\n",
       "    </tr>\n",
       "  </thead>\n",
       "  <tbody>\n",
       "    <tr>\n",
       "      <th>0</th>\n",
       "      <td>four</td>\n",
       "      <td>130</td>\n",
       "      <td>mpfi</td>\n",
       "      <td>3.47</td>\n",
       "      <td>2.68</td>\n",
       "      <td>9.0</td>\n",
       "    </tr>\n",
       "    <tr>\n",
       "      <th>1</th>\n",
       "      <td>four</td>\n",
       "      <td>130</td>\n",
       "      <td>mpfi</td>\n",
       "      <td>3.47</td>\n",
       "      <td>2.68</td>\n",
       "      <td>9.0</td>\n",
       "    </tr>\n",
       "    <tr>\n",
       "      <th>2</th>\n",
       "      <td>six</td>\n",
       "      <td>152</td>\n",
       "      <td>mpfi</td>\n",
       "      <td>2.68</td>\n",
       "      <td>3.47</td>\n",
       "      <td>9.0</td>\n",
       "    </tr>\n",
       "    <tr>\n",
       "      <th>3</th>\n",
       "      <td>four</td>\n",
       "      <td>109</td>\n",
       "      <td>mpfi</td>\n",
       "      <td>3.19</td>\n",
       "      <td>3.40</td>\n",
       "      <td>10.0</td>\n",
       "    </tr>\n",
       "    <tr>\n",
       "      <th>4</th>\n",
       "      <td>five</td>\n",
       "      <td>136</td>\n",
       "      <td>mpfi</td>\n",
       "      <td>3.19</td>\n",
       "      <td>3.40</td>\n",
       "      <td>8.0</td>\n",
       "    </tr>\n",
       "  </tbody>\n",
       "</table>\n",
       "</div>"
      ],
      "text/plain": [
       "  num-of-cylinders  engine-size fuel-system  bore stroke  compression-ratio\n",
       "0             four          130        mpfi  3.47   2.68                9.0\n",
       "1             four          130        mpfi  3.47   2.68                9.0\n",
       "2              six          152        mpfi  2.68   3.47                9.0\n",
       "3             four          109        mpfi  3.19   3.40               10.0\n",
       "4             five          136        mpfi  3.19   3.40                8.0"
      ]
     },
     "execution_count": 5,
     "metadata": {},
     "output_type": "execute_result"
    }
   ],
   "source": [
    "#show the rest of the dataframe\n",
    "df.iloc[::, 15:21].head()"
   ]
  },
  {
   "cell_type": "code",
   "execution_count": 6,
   "metadata": {},
   "outputs": [
    {
     "data": {
      "text/html": [
       "<div>\n",
       "<style scoped>\n",
       "    .dataframe tbody tr th:only-of-type {\n",
       "        vertical-align: middle;\n",
       "    }\n",
       "\n",
       "    .dataframe tbody tr th {\n",
       "        vertical-align: top;\n",
       "    }\n",
       "\n",
       "    .dataframe thead th {\n",
       "        text-align: right;\n",
       "    }\n",
       "</style>\n",
       "<table border=\"1\" class=\"dataframe\">\n",
       "  <thead>\n",
       "    <tr style=\"text-align: right;\">\n",
       "      <th></th>\n",
       "      <th>horsepower</th>\n",
       "      <th>peak-rpm</th>\n",
       "      <th>city-mpg</th>\n",
       "      <th>highway-mpg</th>\n",
       "      <th>price</th>\n",
       "    </tr>\n",
       "  </thead>\n",
       "  <tbody>\n",
       "    <tr>\n",
       "      <th>0</th>\n",
       "      <td>111</td>\n",
       "      <td>5000</td>\n",
       "      <td>21</td>\n",
       "      <td>27</td>\n",
       "      <td>13495</td>\n",
       "    </tr>\n",
       "    <tr>\n",
       "      <th>1</th>\n",
       "      <td>111</td>\n",
       "      <td>5000</td>\n",
       "      <td>21</td>\n",
       "      <td>27</td>\n",
       "      <td>16500</td>\n",
       "    </tr>\n",
       "    <tr>\n",
       "      <th>2</th>\n",
       "      <td>154</td>\n",
       "      <td>5000</td>\n",
       "      <td>19</td>\n",
       "      <td>26</td>\n",
       "      <td>16500</td>\n",
       "    </tr>\n",
       "    <tr>\n",
       "      <th>3</th>\n",
       "      <td>102</td>\n",
       "      <td>5500</td>\n",
       "      <td>24</td>\n",
       "      <td>30</td>\n",
       "      <td>13950</td>\n",
       "    </tr>\n",
       "    <tr>\n",
       "      <th>4</th>\n",
       "      <td>115</td>\n",
       "      <td>5500</td>\n",
       "      <td>18</td>\n",
       "      <td>22</td>\n",
       "      <td>17450</td>\n",
       "    </tr>\n",
       "  </tbody>\n",
       "</table>\n",
       "</div>"
      ],
      "text/plain": [
       "  horsepower peak-rpm  city-mpg  highway-mpg  price\n",
       "0        111     5000        21           27  13495\n",
       "1        111     5000        21           27  16500\n",
       "2        154     5000        19           26  16500\n",
       "3        102     5500        24           30  13950\n",
       "4        115     5500        18           22  17450"
      ]
     },
     "execution_count": 6,
     "metadata": {},
     "output_type": "execute_result"
    }
   ],
   "source": [
    "df.iloc[::,21:].head()"
   ]
  },
  {
   "cell_type": "markdown",
   "metadata": {},
   "source": [
    "Reading the dataframe for the first row, we get a brief ideas of each column. What they are, and how the data are presented. Both numerical and categorical variables are presented. "
   ]
  },
  {
   "cell_type": "markdown",
   "metadata": {},
   "source": [
    "### 1. Compare and test the normality of the distributions of price and log price.\n",
    "Use both a graphical method and a formal test. Hint: remember these relationships will always be approximate.\n",
    "\n",
    "To test normality, K-S stats will be used. \n",
    "\n",
    "First, we need to take a log of price, return a column."
   ]
  },
  {
   "cell_type": "code",
   "execution_count": 7,
   "metadata": {},
   "outputs": [
    {
     "data": {
      "text/plain": [
       "symboling              int64\n",
       "normalized-losses     object\n",
       "make                  object\n",
       "fuel-type             object\n",
       "aspiration            object\n",
       "num-of-doors          object\n",
       "body-style            object\n",
       "drive-wheels          object\n",
       "engine-location       object\n",
       "wheel-base           float64\n",
       "length               float64\n",
       "width                float64\n",
       "height               float64\n",
       "curb-weight            int64\n",
       "engine-type           object\n",
       "num-of-cylinders      object\n",
       "engine-size            int64\n",
       "fuel-system           object\n",
       "bore                  object\n",
       "stroke                object\n",
       "compression-ratio    float64\n",
       "horsepower            object\n",
       "peak-rpm              object\n",
       "city-mpg               int64\n",
       "highway-mpg            int64\n",
       "price                 object\n",
       "dtype: object"
      ]
     },
     "execution_count": 7,
     "metadata": {},
     "output_type": "execute_result"
    }
   ],
   "source": [
    "#Check the data type for all variables\n",
    "df.dtypes"
   ]
  },
  {
   "cell_type": "markdown",
   "metadata": {},
   "source": [
    "It's interesting that price is not a numberical data, so we need to convert it to numeric data first."
   ]
  },
  {
   "cell_type": "code",
   "execution_count": 8,
   "metadata": {},
   "outputs": [],
   "source": [
    "#using to_numeric to convert dtype to numberic type\n",
    "df['price'] = pd.to_numeric(df['price'], errors='coerce')\n",
    "\n",
    "#if they are missing values, remove the missing values\n",
    "df.dropna(inplace=True)\n",
    "\n",
    "#create log price\n",
    "df['log price'] = np.log(df['price'])"
   ]
  },
  {
   "cell_type": "code",
   "execution_count": 9,
   "metadata": {},
   "outputs": [
    {
     "data": {
      "image/png": "[encoded data removed]",
      "text/plain": [
       "<Figure size 432x432 with 2 Axes>"
      ]
     },
     "metadata": {
      "needs_background": "light"
     },
     "output_type": "display_data"
    }
   ],
   "source": [
    "def qq_plot(vec1, vec2):\n",
    "    import scipy.stats as ss\n",
    "    plt.figure(figsize=(6, 6)).gca() # define axis\n",
    "    ax1 = plt.subplot(221) ## setup the left subplot\n",
    "    ss.probplot(vec1, plot = ax1) ## Plot the left subplot\n",
    "    ax1 = plt.subplot(222) ## Set up the right subplot\n",
    "    ss.probplot(vec2, plot = ax1) ## Plot the right subplot\n",
    "    \n",
    "qq_plot(df['price'],df['log price'])"
   ]
  },
  {
   "cell_type": "markdown",
   "metadata": {},
   "source": [
    "Q-Q plots for price(left) and log price(right) are shown above. By eyes, log price is more straight than price, suggesting that log price could be more normal than price. We need to do a further test to evaluate that. K-S test could be used. \n",
    "\n",
    "And we need to standardized samples before applying the K-S test."
   ]
  },
  {
   "cell_type": "code",
   "execution_count": 10,
   "metadata": {},
   "outputs": [],
   "source": [
    "#standardize both price and log price\n",
    "n_p = scale(df['price'])\n",
    "n_lp = scale(df['log price'])"
   ]
  },
  {
   "cell_type": "code",
   "execution_count": 11,
   "metadata": {},
   "outputs": [
    {
     "name": "stdout",
     "output_type": "stream",
     "text": [
      "KS-statistic for price = 0.1542761480184771\n",
      "P-value for price= 0.00012108611006800808\n"
     ]
    }
   ],
   "source": [
    "def ks_test(dat, name, dist = 'norm'):\n",
    "    from scipy.stats import kstest \n",
    "    ks_statisic, pvalue = kstest(dat, dist)\n",
    "    print('KS-statistic for '+ name + ' = ' + str(ks_statisic))\n",
    "    print('P-value for ' + name + '= ' + str(pvalue))\n",
    "    \n",
    "ks_test(n_p, 'price')    "
   ]
  },
  {
   "cell_type": "code",
   "execution_count": 12,
   "metadata": {},
   "outputs": [
    {
     "name": "stdout",
     "output_type": "stream",
     "text": [
      "KS-statistic for log price = 0.09781904713791056\n",
      "P-value for log price= 0.03984598613097214\n"
     ]
    }
   ],
   "source": [
    "ks_test(n_lp, 'log price')   "
   ]
  },
  {
   "cell_type": "markdown",
   "metadata": {},
   "source": [
    "Based on the statitics, both p-values smaller than the classic 0.05 threshold, suggesting we can reject the null hypothesis in both cases. If we set threshold alpha smaller, like 1%. In this case, we cannot reject the null hypothesis for log price, suggesting that log price has no difference to normal distribution.\n",
    "\n",
    "Log price will be used for the rest of the exercise.\n",
    "\n",
    "In the rest of exercise, alpha = 0.05 as threshold."
   ]
  },
  {
   "cell_type": "markdown",
   "metadata": {},
   "source": [
    "### 2. Test significance of price stratified by a) fuel type, b) aspiration, and c) rear vs. front wheel drive.  Use both graphical methods and the formal test."
   ]
  },
  {
   "cell_type": "markdown",
   "metadata": {},
   "source": [
    "## Price vs Fuel type"
   ]
  },
  {
   "cell_type": "code",
   "execution_count": 13,
   "metadata": {},
   "outputs": [
    {
     "data": {
      "text/plain": [
       "array(['gas', 'diesel'], dtype=object)"
      ]
     },
     "execution_count": 13,
     "metadata": {},
     "output_type": "execute_result"
    }
   ],
   "source": [
    "#check what fuel types have \n",
    "df['fuel-type'].unique()"
   ]
  },
  {
   "cell_type": "markdown",
   "metadata": {},
   "source": [
    "Fuel-type only has two kind of entries, either gas and diessel. Comparing the prices for coresponding categories can be achieved using t-test."
   ]
  },
  {
   "cell_type": "code",
   "execution_count": 14,
   "metadata": {},
   "outputs": [
    {
     "name": "stdout",
     "output_type": "stream",
     "text": [
      "total gas smaples: 181\n",
      "total samples: 201\n"
     ]
    }
   ],
   "source": [
    "#create new dataframes for gas and diesel\n",
    "gas =pd.DataFrame()\n",
    "diesel = pd.DataFrame()\n",
    "# fuel[['fuel', 'price']] = df[['fuel-type','price']]\n",
    "print ( 'total gas smaples:' ,sum(df['fuel-type'] == 'gas'))\n",
    "print('total samples:' ,df.shape[0])"
   ]
  },
  {
   "cell_type": "markdown",
   "metadata": {},
   "source": [
    "Check the sample size for each fuel type, and found that this is an unbalance sample size problem. Solution to this unbalance problem is:\n",
    "\n",
    "1. get the same group size.\n",
    "\n",
    "2. do welch's test.\n",
    "\n",
    "In this case, 1 is possible, suggesting that we use all diesel samples, and randomly pick 20 from gas. t-test is more familiar to me, so I would use t_test to measure the difference for 20 gas and diesel samples.\n",
    "\n",
    "First, I need to randomly pick 20 samples from gas use Bernoulli sampling."
   ]
  },
  {
   "cell_type": "code",
   "execution_count": 15,
   "metadata": {},
   "outputs": [],
   "source": [
    "# put samples into correponding dataframe\n",
    "gas['gas price']=df[df['fuel-type'] == 'gas']['log price']\n",
    "diesel['diesel price']=df[df['fuel-type'] == 'diesel']['log price']\n",
    "\n",
    "#  Bernoulli sampling\n",
    "p = 0.1\n",
    "gas_20 = gas.iloc[nr.choice(range(181), size = int(p * 200)), :]"
   ]
  },
  {
   "cell_type": "markdown",
   "metadata": {},
   "source": [
    "gas_20 and diesel will be used for t-test"
   ]
  },
  {
   "cell_type": "code",
   "execution_count": 16,
   "metadata": {},
   "outputs": [
    {
     "data": {
      "image/png": "[encoded data removed]",
      "text/plain": [
       "<Figure size 432x288 with 2 Axes>"
      ]
     },
     "metadata": {
      "needs_background": "light"
     },
     "output_type": "display_data"
    }
   ],
   "source": [
    "def hist_plot(vec, bins):\n",
    "    from statistics import mean\n",
    "    plt.hist(vec, bins = bins)\n",
    "    plt.axvline(mean(vec), color = 'red')\n",
    "    plt.ylabel('Frequency')\n",
    "    plt.xlabel('Value')\n",
    "    \n",
    "def plot_pop(a, b, cols=['gas', 'diesel'], nbins = 5):\n",
    "    minx = min([min(a), min(b)])\n",
    "    maxx = max([max(a), max(b)])\n",
    "    stepx = (maxx - minx)/(nbins + 1)\n",
    "    bins = [minx + i * stepx for i in range(nbins + 1)]\n",
    "    plt.subplot(2, 1, 1) # The first plot\n",
    "    hist_plot(a, bins)\n",
    "    plt.title('Histograme of ' + cols[0] + ' and ' + cols[1])\n",
    "    plt.subplot(2, 1, 2) # The next plot\n",
    "    hist_plot(b, bins)\n",
    "\n",
    "plot_pop(gas_20['gas price'], diesel['diesel price'])    "
   ]
  },
  {
   "cell_type": "markdown",
   "metadata": {},
   "source": [
    "Notice that the values of the distributions of these populations overlap quite a bit and the means are close. Next, we need to compute t-test to determine whether they are significantly different."
   ]
  },
  {
   "cell_type": "code",
   "execution_count": 17,
   "metadata": {},
   "outputs": [
    {
     "data": {
      "text/plain": [
       "DegFreedom    36.978942\n",
       "Difference    -0.179222\n",
       "Statistic     -1.060474\n",
       "PValue         0.295807\n",
       "Low95CI       -0.521659\n",
       "High95CI       0.163215\n",
       "dtype: float64"
      ]
     },
     "execution_count": 17,
     "metadata": {},
     "output_type": "execute_result"
    }
   ],
   "source": [
    "def t_test(a, b, alpha, alternative='two-sided'):\n",
    "    from scipy import stats\n",
    "    import scipy.stats as ss\n",
    "    import statsmodels.stats.weightstats as ws\n",
    "    \n",
    "    diff = a.mean() - b.mean()\n",
    "\n",
    "    res = ss.ttest_ind(a, b, equal_var=False)\n",
    "      \n",
    "    means = ws.CompareMeans(ws.DescrStatsW(a), ws.DescrStatsW(b))\n",
    "    confint = means.tconfint_diff(alpha=alpha, \n",
    "                                  alternative=alternative, usevar='unequal') \n",
    "    degfree = means.dof_satt()\n",
    "\n",
    "    index = ['DegFreedom', 'Difference', 'Statistic', \n",
    "             'PValue', 'Low95CI', 'High95CI']\n",
    "    return pd.Series([degfree, diff, res[0], res[1],\n",
    "                      confint[0], confint[1]], index = index)   \n",
    "   \n",
    "\n",
    "fuel = t_test(gas_20['gas price'], diesel['diesel price'], 0.05)\n",
    "fuel"
   ]
  },
  {
   "cell_type": "markdown",
   "metadata": {},
   "source": [
    "From stats:\n",
    "\n",
    "1. Difference in means is large.\n",
    "2. The t-statistic is small and the p-value is small. Based on these statistics we can reject the null hypothesis."
   ]
  },
  {
   "cell_type": "code",
   "execution_count": 18,
   "metadata": {},
   "outputs": [
    {
     "data": {
      "image/png": "[encoded data removed]",
      "text/plain": [
       "<Figure size 432x288 with 2 Axes>"
      ]
     },
     "metadata": {
      "needs_background": "light"
     },
     "output_type": "display_data"
    }
   ],
   "source": [
    "def hist_mean_ci(vec, t_test, bins):\n",
    "    import matplotlib.pyplot as plt\n",
    "    from statistics import mean\n",
    "    upper = mean(vec) + t_test[5] - t_test[1]\n",
    "    lower = mean(vec) + t_test[4] - t_test[1]\n",
    "    plt.hist(vec, bins = bins)\n",
    "    plt.axvline(mean(vec), color = 'red')\n",
    "    plt.axvline(upper, color = 'red', linestyle='--')\n",
    "    plt.axvline(lower, color = 'red', linestyle='--')\n",
    "    plt.ylabel('Frequency')\n",
    "    plt.xlabel('Value')\n",
    "\n",
    "def plot_t(a, b, t_test, cols=['Gas', 'diesel'], nbins = 5):\n",
    "    import matplotlib.pyplot as plt\n",
    "    minx = min([min(a), min(b)])\n",
    "    maxx = max([max(a), max(b)])\n",
    "    stepx = (maxx - minx)/(nbins + 1)\n",
    "    bins = [minx + i * stepx for i in range(nbins + 1)]\n",
    "    plt.subplot(2, 1, 1) # The first plot\n",
    "    hist_mean_ci(a, t_test, bins)\n",
    "    plt.title('Histograme of ' + cols[0] + ' and ' + cols[1])\n",
    "    plt.subplot(2, 1, 2) # The next plot\n",
    "    hist_plot(b, bins)\n",
    "    \n",
    "plot_t(gas_20['gas price'], diesel['diesel price'], fuel)    "
   ]
  },
  {
   "cell_type": "markdown",
   "metadata": {},
   "source": [
    "Notice that the mean of the population in the lower plot does not overlay in the confidence interval of the upper populations. This confirms that we can reject the null hypothesis that there is significant difference in these means. Therefore, diesel car is more expensive than gas car."
   ]
  },
  {
   "cell_type": "markdown",
   "metadata": {},
   "source": [
    "## Price vs Aspiration"
   ]
  },
  {
   "cell_type": "code",
   "execution_count": 19,
   "metadata": {},
   "outputs": [
    {
     "data": {
      "text/plain": [
       "array(['std', 'turbo'], dtype=object)"
      ]
     },
     "execution_count": 19,
     "metadata": {},
     "output_type": "execute_result"
    }
   ],
   "source": [
    "df['aspiration'].unique()"
   ]
  },
  {
   "cell_type": "markdown",
   "metadata": {},
   "source": [
    "Aspiration only has two kind of entries, either std and turbo. Comparing the prices for coresponding categories can be achieved using t-test."
   ]
  },
  {
   "cell_type": "code",
   "execution_count": 20,
   "metadata": {},
   "outputs": [
    {
     "name": "stdout",
     "output_type": "stream",
     "text": [
      "total std smaples: 165\n",
      "total samples: 201\n"
     ]
    }
   ],
   "source": [
    "#create new dataframes for gas and diesel\n",
    "std =pd.DataFrame()\n",
    "turbo = pd.DataFrame()\n",
    "print ( 'total std smaples:' ,sum(df['aspiration'] == 'std'))\n",
    "print('total samples:' ,df.shape[0])"
   ]
  },
  {
   "cell_type": "markdown",
   "metadata": {},
   "source": [
    "Check the sample size for each aspiration, and found that this is an unbalance sample size problem. Solution to this unbalance problem is get the same group size. (Similar to fuel type problem)\n",
    "\n",
    "First, I need to randomly pick 36 samples from std use Bernoulli sampling."
   ]
  },
  {
   "cell_type": "code",
   "execution_count": 21,
   "metadata": {},
   "outputs": [],
   "source": [
    "# put samples into correponding dataframe\n",
    "std['std price']=df[df['aspiration'] == 'std']['log price']\n",
    "turbo['turbo price']=df[df['aspiration'] == 'turbo']['log price']\n",
    "\n",
    "#  Bernoulli sampling\n",
    "p = 0.1\n",
    "std_36= std.iloc[nr.choice(range(165), size = int(p * 360)), :]"
   ]
  },
  {
   "cell_type": "code",
   "execution_count": 22,
   "metadata": {},
   "outputs": [
    {
     "data": {
      "image/png": "[encoded data removed]",
      "text/plain": [
       "<Figure size 432x288 with 2 Axes>"
      ]
     },
     "metadata": {
      "needs_background": "light"
     },
     "output_type": "display_data"
    }
   ],
   "source": [
    "def plot_pop(a, b, cols=['std', 'turbo'], nbins = 10):\n",
    "    minx = min([min(a), min(b)])\n",
    "    maxx = max([max(a), max(b)])\n",
    "    stepx = (maxx - minx)/(nbins + 1)\n",
    "    bins = [minx + i * stepx for i in range(nbins + 1)]\n",
    "    plt.subplot(2, 1, 1) # The first plot\n",
    "    hist_plot(a, bins)\n",
    "    plt.title('Histograme of ' + cols[0] + ' and ' + cols[1])\n",
    "    plt.subplot(2, 1, 2) # The next plot\n",
    "    hist_plot(b, bins)\n",
    "\n",
    "plot_pop(std_36['std price'], turbo['turbo price']) "
   ]
  },
  {
   "cell_type": "markdown",
   "metadata": {},
   "source": [
    "Notice that the values of the distributions of these populations overlap a bit and the means are close. Next, we need to compute t-test to determine whether they are significantly different."
   ]
  },
  {
   "cell_type": "code",
   "execution_count": 23,
   "metadata": {},
   "outputs": [
    {
     "data": {
      "text/plain": [
       "DegFreedom    66.389607\n",
       "Difference    -0.281059\n",
       "Statistic     -2.724720\n",
       "PValue         0.008219\n",
       "Low95CI       -0.486986\n",
       "High95CI      -0.075133\n",
       "dtype: float64"
      ]
     },
     "execution_count": 23,
     "metadata": {},
     "output_type": "execute_result"
    }
   ],
   "source": [
    "aspiration = t_test(std_36['std price'], turbo['turbo price'],0.05) \n",
    "aspiration"
   ]
  },
  {
   "cell_type": "markdown",
   "metadata": {},
   "source": [
    "From stats:\n",
    "\n",
    "1. Difference in means is large.\n",
    "2. The t-statistic is small and the p-value is small. Therefore, there is a low chance that the difference in means is from random variation alone.\n",
    "Based on these statistics we can reject the null hypothesis that price for std car is different from turbo car."
   ]
  },
  {
   "cell_type": "code",
   "execution_count": 24,
   "metadata": {},
   "outputs": [
    {
     "data": {
      "image/png": "[encoded data removed]",
      "text/plain": [
       "<Figure size 432x288 with 2 Axes>"
      ]
     },
     "metadata": {
      "needs_background": "light"
     },
     "output_type": "display_data"
    }
   ],
   "source": [
    "def plot_t(a, b, t_test, cols=['std', 'turbo'], nbins = 10):\n",
    "    import matplotlib.pyplot as plt\n",
    "    minx = min([min(a), min(b)])\n",
    "    maxx = max([max(a), max(b)])\n",
    "    stepx = (maxx - minx)/(nbins + 1)\n",
    "    bins = [minx + i * stepx for i in range(nbins + 1)]\n",
    "    plt.subplot(2, 1, 1) # The first plot\n",
    "    hist_mean_ci(a, t_test, bins)\n",
    "    plt.title('Histograme of ' + cols[0] + ' and ' + cols[1])\n",
    "    plt.subplot(2, 1, 2) # The next plot\n",
    "    hist_plot(b, bins)\n",
    "    \n",
    "plot_t(std_36['std price'], turbo['turbo price'], aspiration)"
   ]
  },
  {
   "cell_type": "markdown",
   "metadata": {},
   "source": [
    "Notice that the mean of the population in the lower plot is beyond the confidence interval of the difference of means of the populations. This confirms that we can reject the null hypothesis that there is significant difference in these means. Therefore, turbo car in general is more expensive than std car. "
   ]
  },
  {
   "cell_type": "markdown",
   "metadata": {},
   "source": [
    "## Price vs drive-wheels"
   ]
  },
  {
   "cell_type": "code",
   "execution_count": 25,
   "metadata": {},
   "outputs": [
    {
     "data": {
      "text/plain": [
       "array(['rwd', 'fwd', '4wd'], dtype=object)"
      ]
     },
     "execution_count": 25,
     "metadata": {},
     "output_type": "execute_result"
    }
   ],
   "source": [
    "df['drive-wheels'].unique()"
   ]
  },
  {
   "cell_type": "markdown",
   "metadata": {},
   "source": [
    "In this problem, we only need rwd and fwd."
   ]
  },
  {
   "cell_type": "code",
   "execution_count": 26,
   "metadata": {},
   "outputs": [
    {
     "name": "stdout",
     "output_type": "stream",
     "text": [
      "total rwd smaples: 75\n",
      "total fwd samples: 118\n"
     ]
    }
   ],
   "source": [
    "#create new dataframes for gas and diesel\n",
    "rwd =pd.DataFrame()\n",
    "fwd = pd.DataFrame()\n",
    "print ( 'total rwd smaples:' ,sum(df['drive-wheels'] == 'rwd'))\n",
    "print('total fwd samples:',sum(df['drive-wheels'] == 'fwd'))"
   ]
  },
  {
   "cell_type": "markdown",
   "metadata": {},
   "source": [
    "Check the sample size, and found that this is an unbalance sample size problem, only slightly unbalanced. Solution to this unbalance problem is get the same group size. (Similar to fuel type problem)\n",
    "\n",
    "First, I need to randomly pick 75 samples from fwd use Bernoulli sampling."
   ]
  },
  {
   "cell_type": "code",
   "execution_count": 27,
   "metadata": {},
   "outputs": [],
   "source": [
    "# put samples into correponding dataframe\n",
    "rwd['rwd price']=df[df['drive-wheels'] == 'rwd']['log price']\n",
    "fwd['fwd price']=df[df['drive-wheels'] == 'fwd']['log price']\n",
    "\n",
    "#  Bernoulli sampling\n",
    "p = 0.1\n",
    "fwd_75= fwd.iloc[nr.choice(range(118), size = int(p * 750)), :]"
   ]
  },
  {
   "cell_type": "code",
   "execution_count": 28,
   "metadata": {
    "scrolled": true
   },
   "outputs": [
    {
     "data": {
      "image/png": "[encoded data removed]",
      "text/plain": [
       "<Figure size 432x288 with 2 Axes>"
      ]
     },
     "metadata": {
      "needs_background": "light"
     },
     "output_type": "display_data"
    }
   ],
   "source": [
    "def plot_pop(a, b, cols=['rwd', 'fwd'], nbins = 20):\n",
    "    minx = min([min(a), min(b)])\n",
    "    maxx = max([max(a), max(b)])\n",
    "    stepx = (maxx - minx)/(nbins + 1)\n",
    "    bins = [minx + i * stepx for i in range(nbins + 1)]\n",
    "    plt.subplot(2, 1, 1) # The first plot\n",
    "    hist_plot(a, bins)\n",
    "    plt.title('Histograme of ' + cols[0] + ' and ' + cols[1])\n",
    "    plt.subplot(2, 1, 2) # The next plot\n",
    "    hist_plot(b, bins)\n",
    "\n",
    "plot_pop(rwd['rwd price'], fwd_75['fwd price'])"
   ]
  },
  {
   "cell_type": "markdown",
   "metadata": {},
   "source": [
    "Notice that the values of the distributions of these populations overlap a little bit and the means are not so close. Next, we need to compute t-test to determine whether they are significantly different."
   ]
  },
  {
   "cell_type": "code",
   "execution_count": 29,
   "metadata": {},
   "outputs": [
    {
     "data": {
      "text/plain": [
       "DegFreedom    1.428223e+02\n",
       "Difference    6.549171e-01\n",
       "Statistic     9.995271e+00\n",
       "PValue        3.670283e-18\n",
       "Low95CI       5.253976e-01\n",
       "High95CI      7.844367e-01\n",
       "dtype: float64"
      ]
     },
     "execution_count": 29,
     "metadata": {},
     "output_type": "execute_result"
    }
   ],
   "source": [
    "drive= t_test(rwd['rwd price'], fwd_75['fwd price'],0.05)\n",
    "drive"
   ]
  },
  {
   "cell_type": "markdown",
   "metadata": {},
   "source": [
    "From stats:\n",
    "\n",
    "1. Difference in means is large.\n",
    "2. The t-statistic is large and the p-value is very small. Therefore, there is a low chance that the difference in means is from random variation alone.\n",
    "Based on these statistics we can reject the null hypothesis that price for rwd car is different from fwd car."
   ]
  },
  {
   "cell_type": "code",
   "execution_count": 30,
   "metadata": {},
   "outputs": [
    {
     "data": {
      "image/png": "[encoded data removed]",
      "text/plain": [
       "<Figure size 432x288 with 2 Axes>"
      ]
     },
     "metadata": {
      "needs_background": "light"
     },
     "output_type": "display_data"
    }
   ],
   "source": [
    "def plot_t(a, b, t_test, cols=['rwd', 'fwd'], nbins = 10):\n",
    "    import matplotlib.pyplot as plt\n",
    "    minx = min([min(a), min(b)])\n",
    "    maxx = max([max(a), max(b)])\n",
    "    stepx = (maxx - minx)/(nbins + 1)\n",
    "    bins = [minx + i * stepx for i in range(nbins + 1)]\n",
    "    plt.subplot(2, 1, 1) # The first plot\n",
    "    hist_mean_ci(a, t_test, bins)\n",
    "    plt.title('Histograme of ' + cols[0] + ' and ' + cols[1])\n",
    "    plt.subplot(2, 1, 2) # The next plot\n",
    "    hist_plot(b, bins)\n",
    "    \n",
    "plot_t(rwd['rwd price'], fwd_75['fwd price'],drive)"
   ]
  },
  {
   "cell_type": "markdown",
   "metadata": {},
   "source": [
    "Notice that the mean of the population in the lower plot is beyond the confidence interval of the difference of means of the populations. This confirms that we can reject the null hypothesis that there is significant difference between rwd and fwd car prices. Therefore, rwd car in general is more expensive than fwd car."
   ]
  },
  {
   "cell_type": "markdown",
   "metadata": {},
   "source": [
    "### Apply ANOVA and Tukey's HSD test to the auto price data to compare the price (or log price, if closer to a Normal distribution) of autos stratified by body style."
   ]
  },
  {
   "cell_type": "code",
   "execution_count": 31,
   "metadata": {},
   "outputs": [
    {
     "data": {
      "text/plain": [
       "array(['convertible', 'hatchback', 'sedan', 'wagon', 'hardtop'],\n",
       "      dtype=object)"
      ]
     },
     "execution_count": 31,
     "metadata": {},
     "output_type": "execute_result"
    }
   ],
   "source": [
    "df['body-style'].unique()"
   ]
  },
  {
   "cell_type": "markdown",
   "metadata": {},
   "source": [
    "There are five groups in body style. ANOVA and HSD will be applied."
   ]
  },
  {
   "cell_type": "code",
   "execution_count": 32,
   "metadata": {},
   "outputs": [],
   "source": [
    "conv = pd.DataFrame()\n",
    "hat = pd.DataFrame()\n",
    "sed = pd.DataFrame()\n",
    "wag = pd.DataFrame()\n",
    "hard = pd.DataFrame()\n",
    "\n",
    "conv['conv price']=df[df['body-style'] == 'convertible']['log price']\n",
    "hat['hat price']=df[df['body-style'] == 'hatchback']['log price']\n",
    "sed['sed price']=df[df['body-style'] == 'sedan']['log price']\n",
    "wag['wag price']=df[df['body-style'] == 'wagon']['log price']\n",
    "hard['hard price']=df[df['body-style'] == 'hardtop']['log price']"
   ]
  },
  {
   "cell_type": "code",
   "execution_count": 33,
   "metadata": {},
   "outputs": [
    {
     "data": {
      "image/png": "[encoded data removed]",
      "text/plain": [
       "<Figure size 432x288 with 1 Axes>"
      ]
     },
     "metadata": {
      "needs_background": "light"
     },
     "output_type": "display_data"
    }
   ],
   "source": [
    "fig = plt.figure()\n",
    "ax = fig.add_subplot(111)\n",
    "ax.boxplot([conv['conv price'], hat['hat price'], \n",
    "             sed['sed price'], wag['wag price'], hard['hard price']])\n",
    "plt.ylabel('Log Price')\n",
    "ax.set_xticklabels(['convertible', 'hatchabck','sedan','wagon', 'hardtop'], rotation = 'vertical')\n",
    "plt.xlabel('Variable')\n",
    "plt.title('Box plot of body-style variables');"
   ]
  },
  {
   "cell_type": "markdown",
   "metadata": {},
   "source": [
    "The plot shows variation between the distributions of the five variables. Nest, we need to compute F-statistic and a p-value using `f_oneway` function"
   ]
  },
  {
   "cell_type": "code",
   "execution_count": 34,
   "metadata": {},
   "outputs": [
    {
     "name": "stdout",
     "output_type": "stream",
     "text": [
      "F statistic = 8.458887676111926\n",
      "P-value = 2.573333086083424e-06\n"
     ]
    }
   ],
   "source": [
    "f_statistic, p_value = ss.f_oneway(conv['conv price'], hat['hat price'],\n",
    "                                   sed['sed price'], wag['wag price'], \n",
    "                                   hard['hard price'])\n",
    "print('F statistic = ' + str(f_statistic))\n",
    "print('P-value = ' + str(p_value))"
   ]
  },
  {
   "cell_type": "markdown",
   "metadata": {},
   "source": [
    "The F statistic is fairly large and the p-value is small. We can reject the null hypothesis that the 5 variables have the same mean, as the probability of the differences arising from random chance is quite low.\n",
    "\n",
    "From the above ANOVA results we know that there is some difference in the means of these variables. However, the ANOVA does not tell us which variable is significantly different. So we need to perform HSD test."
   ]
  },
  {
   "cell_type": "code",
   "execution_count": 35,
   "metadata": {
    "scrolled": true
   },
   "outputs": [
    {
     "name": "stdout",
     "output_type": "stream",
     "text": [
      "Multiple Comparison of Means - Tukey HSD, FWER=0.05 \n",
      "====================================================\n",
      "group1 group2 meandiff p-adj   lower   upper  reject\n",
      "----------------------------------------------------\n",
      "  conv   hard  -0.0966    0.9 -0.7933     0.6  False\n",
      "  conv    hat  -0.7628 0.0016 -1.3122 -0.2134   True\n",
      "  conv    sed  -0.4519 0.1522 -0.9951  0.0913  False\n",
      "  conv    wag  -0.5399 0.0873 -1.1264  0.0465  False\n",
      "  hard    hat  -0.6662 0.0018 -1.1483  -0.184   True\n",
      "  hard    sed  -0.3553 0.2422 -0.8304  0.1198  False\n",
      "  hard    wag  -0.4433   0.14 -0.9673  0.0807  False\n",
      "   hat    sed   0.3109  0.001  0.1055  0.5163   True\n",
      "   hat    wag   0.2229 0.2536 -0.0788  0.5246  False\n",
      "   sed    wag   -0.088    0.9 -0.3783  0.2023  False\n",
      "----------------------------------------------------\n"
     ]
    }
   ],
   "source": [
    "from statsmodels.stats.multicomp import pairwise_tukeyhsd\n",
    "df2 = pd.DataFrame({'vals' :conv['conv price'].tolist() + \n",
    "                    hat['hat price'].tolist() +\n",
    "                   sed['sed price'].tolist() +wag['wag price'].tolist() +\n",
    "                    hard['hard price'].tolist(),\n",
    "                   'group_num': ['conv'] * len(conv) + ['hat'] * len(hat) + \n",
    "                    ['sed'] * len(sed) +\n",
    "                   ['wag'] * len(wag) + ['hard'] *len(hard) })\n",
    "Tukey_HSD = pairwise_tukeyhsd(df2.vals, df2.group_num)\n",
    "print(Tukey_HSD)"
   ]
  },
  {
   "cell_type": "markdown",
   "metadata": {},
   "source": [
    "From the table, we can see whether there is significant difference based on p-values and the reject column.\n",
    "\n",
    "Use `plot_simultaneous` method to plot test results."
   ]
  },
  {
   "cell_type": "code",
   "execution_count": 36,
   "metadata": {},
   "outputs": [
    {
     "data": {
      "image/png": "[encoded data removed]",
      "text/plain": [
       "<Figure size 720x432 with 1 Axes>"
      ]
     },
     "execution_count": 36,
     "metadata": {},
     "output_type": "execute_result"
    },
    {
     "data": {
      "image/png": "[encoded data removed]",
      "text/plain": [
       "<Figure size 720x432 with 1 Axes>"
      ]
     },
     "metadata": {
      "needs_background": "light"
     },
     "output_type": "display_data"
    }
   ],
   "source": [
    "Tukey_HSD.plot_simultaneous()"
   ]
  },
  {
   "cell_type": "markdown",
   "metadata": {},
   "source": [
    "Examine the plot above. There is a line with a dot shown for each variable. The dot is the mean and the line shows the range of the confidence interval for that mean. If the difference in means is significant at the confidence level, the confidence intervals will not overlap. For example, hardtop and convertible are more expensive than hatchback."
   ]
  },
  {
   "cell_type": "markdown",
   "metadata": {},
   "source": [
    "### 4. Graphically explore the differences between the price conditioned by the categories of each variable.\n",
    "Hint: Make sure you have enough data for each category and drop categories with insufficient data."
   ]
  },
  {
   "cell_type": "markdown",
   "metadata": {},
   "source": [
    "We need to evaluate the the relationship bewteen varibles in each category. For categorical data, they are make, fuel-type, aspiration, num-of-doors, body-style, drive-wheels, engine-location,engine-type,num-of-cylinders, and fuel-system.\n",
    "\n",
    "I have graphically and statstically studied the relationship between price fuel-type, and aspiration using t-test above. And I also studied body-style using ANOVA and Tukey above. \n",
    "\n",
    "So I am going to plot prive vs make, num-of-doors, drive-wheels, engine-location,engine-type,num-of-cylinders, and fuel-system in a box-plot for comparisons first."
   ]
  },
  {
   "cell_type": "markdown",
   "metadata": {},
   "source": [
    "#### price vs make"
   ]
  },
  {
   "cell_type": "code",
   "execution_count": 39,
   "metadata": {},
   "outputs": [],
   "source": [
    "make_list = df['make'].unique().tolist()\n",
    "#create a list for different varibles under 'make' category\n",
    "make={}\n",
    "for i in make_list:\n",
    "    make[i[:4]]= [df[df['make'] == i]['log price'].values.tolist()]"
   ]
  },
  {
   "cell_type": "code",
   "execution_count": 40,
   "metadata": {},
   "outputs": [],
   "source": [
    "#convert list to Series, so that can used for plotting later\n",
    "make2 = {}\n",
    "for i in make_list:\n",
    "    make2[i] = pd.Series(make[i[:4]][0])"
   ]
  },
  {
   "cell_type": "code",
   "execution_count": 41,
   "metadata": {},
   "outputs": [
    {
     "data": {
      "image/png": "[encoded data removed]",
      "text/plain": [
       "<Figure size 432x288 with 1 Axes>"
      ]
     },
     "metadata": {
      "needs_background": "light"
     },
     "output_type": "display_data"
    }
   ],
   "source": [
    "fig = plt.figure()\n",
    "ax = fig.add_subplot(111)\n",
    "ax.boxplot([make2['alfa-romero'], make2['audi'], make2['bmw'], make2['isuzu'], \n",
    "             make2['jaguar'], make2['mazda'],make2['mitsubishi'],make2['peugot'],\n",
    "            make2['plymouth'], make2['porsche'], make2[ 'renault'], make2['saab'],\n",
    "            make2['subaru'], make2['toyota'], make2['volkswagen'], make2['volvo']]);\n",
    "ax.set_xticklabels(['alfa-romero','audi','bmw','chevrolet','dodge','honda','isuzu','jaguar',\n",
    "                    'mazda','mitsubishi','nissan','peugot','plymouth','porsche','renault',\n",
    "                    'saab','subaru','toyota','volkswagen','volvo'], rotation ='vertical');\n",
    "ax.set_ylabel('price')\n",
    "ax.set_title('Price vs Make');"
   ]
  },
  {
   "cell_type": "markdown",
   "metadata": {},
   "source": [
    "In this boxplot,there are difference between varibales under the 'make' cateogories. We can roughly divided into two groups, high price group, alfa-romero, audi, bmw, dodge,jaguar, mitsubishi, peugit, and saab. The rest would be low price group. \n",
    "Note, I remove two varibales, mercury and mercede-benz because there is only on observations in each varible. ANOVA test is performed below."
   ]
  },
  {
   "cell_type": "code",
   "execution_count": 42,
   "metadata": {},
   "outputs": [
    {
     "name": "stdout",
     "output_type": "stream",
     "text": [
      "F statistic = 20.123820569550848\n",
      "P-value = 3.193777907303874e-27\n"
     ]
    }
   ],
   "source": [
    "f_statistic, p_value = ss.f_oneway(make2['alfa-romero'], make2['audi'], make2['bmw'], make2['isuzu'], \n",
    "             make2['jaguar'], make2['mazda'],make2['mitsubishi'],make2['peugot'],\n",
    "            make2['plymouth'], make2['porsche'], make2[ 'renault'], make2['saab'],\n",
    "            make2['subaru'], make2['toyota'], make2['volkswagen'], make2['volvo'])\n",
    "print('F statistic = ' + str(f_statistic))\n",
    "print('P-value = ' + str(p_value))"
   ]
  },
  {
   "cell_type": "markdown",
   "metadata": {},
   "source": [
    "The F statistic is fairly large and the p-value is small. We can reject the null hypothesis that variables have the same mean, as the probability of the differences arising from random chance is quite low.\n",
    "\n",
    "From the above ANOVA results we know that there is some difference in the means of these variables. However, the ANOVA does not tell us which variable is significantly different. So we need to perform HSD test."
   ]
  },
  {
   "cell_type": "code",
   "execution_count": 43,
   "metadata": {
    "scrolled": false
   },
   "outputs": [
    {
     "name": "stdout",
     "output_type": "stream",
     "text": [
      "     Multiple Comparison of Means - Tukey HSD, FWER=0.05     \n",
      "=============================================================\n",
      "   group1     group2   meandiff p-adj   lower   upper  reject\n",
      "-------------------------------------------------------------\n",
      "alra-romero       audi   0.1314    0.9 -0.5929  0.8557  False\n",
      "alra-romero        bmw   0.4733 0.5428 -0.2202  1.1667  False\n",
      "alra-romero      isuzu  -0.5779 0.6819 -1.5129  0.3572  False\n",
      "alra-romero     jaguar   0.8063 0.0717   -0.03  1.6426  False\n",
      "alra-romero      mazda   -0.435  0.552 -1.0765  0.2064  False\n",
      "alra-romero mitsubishi  -0.5599 0.1881  -1.216  0.0962  False\n",
      "alra-romero     peugot  -0.0063    0.9 -0.6735  0.6608  False\n",
      "alra-romero   plymouth  -0.6954 0.0589 -1.4023  0.0114  False\n",
      "alra-romero    porsche   0.6919 0.1462 -0.0905  1.4742  False\n",
      "alra-romero    renault  -0.4756    0.9 -1.4106  0.4595  False\n",
      "alra-romero       saab  -0.0286    0.9 -0.7529  0.6957  False\n",
      "alra-romero     subara   -0.616 0.0966 -1.2772  0.0452  False\n",
      "alra-romero     toyota  -0.4905 0.2933 -1.1089   0.128  False\n",
      "alra-romero        vol  -0.1653    0.9  -0.794  0.4635  False\n",
      "       audi        bmw   0.3419  0.682 -0.2113   0.895  False\n",
      "       audi      isuzu  -0.7093 0.1962 -1.5456  0.1271  False\n",
      "       audi     jaguar   0.6749 0.0965 -0.0494  1.3992  False\n",
      "       audi      mazda  -0.5664 0.0079 -1.0528   -0.08   True\n",
      "       audi mitsubishi  -0.6913  0.001 -1.1968 -0.1858   True\n",
      "       audi     peugot  -0.1377    0.9 -0.6576  0.3821  False\n",
      "       audi   plymouth  -0.8269  0.001 -1.3967  -0.257   True\n",
      "       audi    porsche   0.5604 0.1969 -0.1007  1.2216  False\n",
      "       audi    renault   -0.607 0.4464 -1.4433  0.2293  False\n",
      "       audi       saab    -0.16    0.9 -0.7514  0.4313  False\n",
      "       audi     subara  -0.7474  0.001 -1.2596 -0.2353   True\n",
      "       audi     toyota  -0.6219  0.001 -1.0776 -0.1662   True\n",
      "       audi        vol  -0.2967  0.652 -0.7663  0.1729  False\n",
      "        bmw      isuzu  -1.0511 0.0014 -1.8609 -0.2414   True\n",
      "        bmw     jaguar    0.333    0.9 -0.3604  1.0265  False\n",
      "        bmw      mazda  -0.9083  0.001 -1.3475 -0.4691   True\n",
      "        bmw mitsubishi  -1.0331  0.001 -1.4934 -0.5729   True\n",
      "        bmw     peugot  -0.4796 0.0463 -0.9556 -0.0037   True\n",
      "        bmw   plymouth  -1.1687  0.001 -1.6988 -0.6386   True\n",
      "        bmw    porsche   0.2186    0.9 -0.4087  0.8458  False\n",
      "        bmw    renault  -0.9489 0.0072 -1.7586 -0.1391   True\n",
      "        bmw       saab  -0.5019 0.1209 -1.0551  0.0513  False\n",
      "        bmw     subara  -1.0893  0.001 -1.5568 -0.6217   True\n",
      "        bmw     toyota  -0.9637  0.001 -1.3686 -0.5589   True\n",
      "        bmw        vol  -0.6386  0.001  -1.059 -0.2181   True\n",
      "      isuzu     jaguar   1.3842  0.001  0.4491  2.3192   True\n",
      "      isuzu      mazda   0.1428    0.9 -0.6229  0.9085  False\n",
      "      isuzu mitsubishi    0.018    0.9   -0.76   0.796  False\n",
      "      isuzu     peugot   0.5715 0.4462 -0.2158  1.3589  False\n",
      "      isuzu   plymouth  -0.1176    0.9 -0.9388  0.7037  False\n",
      "      isuzu    porsche   1.2697  0.001  0.3827  2.1568   True\n",
      "      isuzu    renault   0.1023    0.9  -0.922  1.1266  False\n",
      "      isuzu       saab   0.5493 0.5983 -0.2871  1.3856  False\n",
      "      isuzu     subara  -0.0381    0.9 -0.8204  0.7442  False\n",
      "      isuzu     toyota   0.0874    0.9 -0.6592   0.834  False\n",
      "      isuzu        vol   0.4126 0.8366 -0.3425  1.1677  False\n",
      "     jaguar      mazda  -1.2413  0.001 -1.8828 -0.5999   True\n",
      "     jaguar mitsubishi  -1.3662  0.001 -2.0223 -0.7101   True\n",
      "     jaguar     peugot  -0.8126 0.0041 -1.4798 -0.1455   True\n",
      "     jaguar   plymouth  -1.5018  0.001 -2.2086 -0.7949   True\n",
      "     jaguar    porsche  -0.1145    0.9 -0.8968  0.6679  False\n",
      "     jaguar    renault  -1.2819  0.001  -2.217 -0.3469   True\n",
      "     jaguar       saab  -0.8349 0.0091 -1.5592 -0.1106   True\n",
      "     jaguar     subara  -1.4223  0.001 -2.0835 -0.7611   True\n",
      "     jaguar     toyota  -1.2968  0.001 -1.9153 -0.6783   True\n",
      "     jaguar        vol  -0.9716  0.001 -1.6004 -0.3428   True\n",
      "      mazda mitsubishi  -0.1248    0.9 -0.5022  0.2525  False\n",
      "      mazda     peugot   0.4287 0.0209  0.0323   0.825   True\n",
      "      mazda   plymouth  -0.2604 0.7939 -0.7204  0.1996  False\n",
      "      mazda    porsche   1.1269  0.001  0.5577  1.6961   True\n",
      "      mazda    renault  -0.0406    0.9 -0.8063  0.7251  False\n",
      "      mazda       saab   0.4064 0.2162   -0.08  0.8928  False\n",
      "      mazda     subara   -0.181    0.9 -0.5672  0.2052  False\n",
      "      mazda     toyota  -0.0554    0.9 -0.3629   0.252  False\n",
      "      mazda        vol   0.2697 0.2367 -0.0579  0.5974  False\n",
      " mitsubishi     peugot   0.5535 0.0011  0.1339  0.9732   True\n",
      " mitsubishi   plymouth  -0.1356    0.9 -0.6158  0.3446  False\n",
      " mitsubishi    porsche   1.2517  0.001  0.6661  1.8374   True\n",
      " mitsubishi    renault   0.0843    0.9 -0.6937  0.8623  False\n",
      " mitsubishi       saab   0.5313 0.0293  0.0257  1.0368   True\n",
      " mitsubishi     subara  -0.0561    0.9 -0.4662  0.3539  False\n",
      " mitsubishi     toyota   0.0694    0.9 -0.2675  0.4063  False\n",
      " mitsubishi        vol   0.3946 0.0151  0.0392    0.75   True\n",
      "     peugot   plymouth  -0.6891  0.001 -1.1844 -0.1939   True\n",
      "     peugot    porsche   0.6982 0.0076  0.1001  1.2962   True\n",
      "     peugot    renault  -0.4693 0.7295 -1.2566  0.3181  False\n",
      "     peugot       saab  -0.0223    0.9 -0.5421  0.4976  False\n",
      "     peugot     subara  -0.6097  0.001 -1.0372 -0.1821   True\n",
      "     peugot     toyota  -0.4841  0.001 -0.8421 -0.1261   True\n",
      "     peugot        vol   -0.159    0.9 -0.5344  0.2165  False\n",
      "   plymouth    porsche   1.3873  0.001  0.7453  2.0293   True\n",
      "   plymouth    renault   0.2199    0.9 -0.6014  1.0411  False\n",
      "   plymouth       saab   0.6668 0.0074   0.097  1.2367   True\n",
      "   plymouth     subara   0.0795    0.9 -0.4077  0.5666  False\n",
      "   plymouth     toyota    0.205    0.9 -0.2224  0.6324  False\n",
      "   plymouth        vol   0.5302 0.0052   0.088  0.9723   True\n",
      "    porsche    renault  -1.1675 0.0011 -2.0545 -0.2804   True\n",
      "    porsche       saab  -0.7205 0.0191 -1.3817 -0.0593   True\n",
      "    porsche     subara  -1.3079  0.001 -1.8992 -0.7165   True\n",
      "    porsche     toyota  -1.1823  0.001 -1.7255 -0.6391   True\n",
      "    porsche        vol  -0.8571  0.001  -1.412 -0.3022   True\n",
      "    renault       saab    0.447 0.8623 -0.3894  1.2833  False\n",
      "    renault     subara  -0.1404    0.9 -0.9227  0.6419  False\n",
      "    renault     toyota  -0.0149    0.9 -0.7615  0.7317  False\n",
      "    renault        vol   0.3103    0.9 -0.4448  1.0654  False\n",
      "       saab     subara  -0.5874 0.0098 -1.0995 -0.0752   True\n",
      "       saab     toyota  -0.4619 0.0436 -0.9175 -0.0062   True\n",
      "       saab        vol  -0.1367    0.9 -0.6062  0.3329  False\n",
      "     subara     toyota   0.1255    0.9 -0.2212  0.4722  False\n",
      "     subara        vol   0.4507 0.0032   0.086  0.8155   True\n",
      "     toyota        vol   0.3252 0.0082  0.0452  0.6052   True\n",
      "-------------------------------------------------------------\n"
     ]
    }
   ],
   "source": [
    "make_final = pd.DataFrame({'vals' :make2['alfa-romero'].tolist() + make2['audi'].tolist() + \n",
    "                           make2['bmw'].tolist() + make2['isuzu'].tolist()+ \n",
    "                           make2['jaguar'].tolist() + make2['mazda'].tolist() + \n",
    "                           make2['mitsubishi'].tolist() + make2['peugot'].tolist()+\n",
    "                           make2['plymouth'].tolist() + make2['porsche'].tolist()+ \n",
    "                           make2[ 'renault'].tolist() + make2['saab'].tolist()+\n",
    "                           make2['subaru'].tolist() +make2['toyota'].tolist()  + \n",
    "                           make2['volkswagen'].tolist() + make2['volvo'].tolist(),\n",
    "                           'group_num': ['alra-romero'] * len(make2['alfa-romero']) + ['audi'] * len(make2['audi']) +\n",
    "                           ['bmw']* len(make2['bmw']) + ['isuzu']*len (make2['isuzu']) + ['jaguar'] * len(make2['jaguar']) +\n",
    "                           ['mazda'] * len(make2['mazda']) + ['mitsubishi'] * len(make2['mitsubishi']) + \n",
    "                           ['peugot'] * len (make2['peugot']) + ['plymouth'] * len (make2['plymouth']) +\n",
    "                           ['porsche'] * len (make2['porsche']) + ['renault'] *len( make2[ 'renault']) +\n",
    "                           ['saab'] * len(make2['saab']) + ['subara'] * len(make2['subaru']) +\n",
    "                           ['toyota'] * len(make2['toyota']) + ['vol'] * len(make2['volkswagen']) +\n",
    "                           ['vol'] * len(make2['volvo']) })\n",
    "Tukey_HSD = pairwise_tukeyhsd(make_final.vals, make_final.group_num)\n",
    "print(Tukey_HSD)"
   ]
  },
  {
   "cell_type": "markdown",
   "metadata": {},
   "source": [
    "In this statsitic summary, difference between variables can be viewed in the last column. True means that there is difference between two variables. For example, toyota and vol, p value is 0.0295, smaller than 0.05, so we can reject null hypothesis, suggesting that there is difference between toyota and vol."
   ]
  },
  {
   "cell_type": "code",
   "execution_count": 44,
   "metadata": {},
   "outputs": [
    {
     "data": {
      "image/png": "[encoded data removed]",
      "text/plain": [
       "<Figure size 720x432 with 1 Axes>"
      ]
     },
     "execution_count": 44,
     "metadata": {},
     "output_type": "execute_result"
    },
    {
     "data": {
      "image/png": "[encoded data removed]",
      "text/plain": [
       "<Figure size 720x432 with 1 Axes>"
      ]
     },
     "metadata": {
      "needs_background": "light"
     },
     "output_type": "display_data"
    }
   ],
   "source": [
    "Tukey_HSD.plot_simultaneous()"
   ]
  },
  {
   "cell_type": "markdown",
   "metadata": {},
   "source": [
    "Examine the plot above. There is a line with a dot shown for each variable. The dot is the mean and the line shows the range of the confidence interval for that mean. Take vol and toyota for example. Confidence interval for these two varibales actually overlap with each other a little bit. But from the p-values, we still can reject the null hypothesis at alpha 0.05"
   ]
  },
  {
   "cell_type": "markdown",
   "metadata": {},
   "source": [
    "#### price vs num-of-doors"
   ]
  },
  {
   "cell_type": "code",
   "execution_count": 45,
   "metadata": {},
   "outputs": [
    {
     "data": {
      "text/plain": [
       "array(['two', 'four', '?'], dtype=object)"
      ]
     },
     "execution_count": 45,
     "metadata": {},
     "output_type": "execute_result"
    }
   ],
   "source": [
    "df['num-of-doors'].unique()"
   ]
  },
  {
   "cell_type": "markdown",
   "metadata": {},
   "source": [
    "Missing values present, in this case, I will remove missing values then perform the graphical comparison"
   ]
  },
  {
   "cell_type": "code",
   "execution_count": 46,
   "metadata": {},
   "outputs": [],
   "source": [
    "#replace ? with NaN, then use dropna() to remove missing values\n",
    "p_door = pd.DataFrame({'door': df['num-of-doors'], 'price': df['log price']})\n",
    "door_missing= p_door['door'] =='?'\n",
    "p_door.loc[door_missing, 'door'] = np.nan\n",
    "p_door.dropna(inplace= True)\n",
    "\n",
    "door_list = p_door['door'].unique().tolist()\n",
    "doors={}\n",
    "for i in door_list:\n",
    "    doors[i[:4]]= [p_door[p_door['door'] == i]['price'].values.tolist()]\n",
    "    \n",
    "doors2 = {}\n",
    "for i in door_list:\n",
    "    doors2[i] = pd.Series(doors[i][0])"
   ]
  },
  {
   "cell_type": "code",
   "execution_count": 47,
   "metadata": {},
   "outputs": [
    {
     "data": {
      "image/png": "[encoded data removed]",
      "text/plain": [
       "<Figure size 432x288 with 1 Axes>"
      ]
     },
     "metadata": {
      "needs_background": "light"
     },
     "output_type": "display_data"
    }
   ],
   "source": [
    "fig = plt.figure()\n",
    "ax = fig.add_subplot(111)\n",
    "ax.boxplot([doors2['two'], doors2['four']])\n",
    "ax.set_xticklabels(['two', 'four'], rotation ='vertical')\n",
    "ax.set_xlabel('Number of doors')\n",
    "ax.set_ylabel('Price')\n",
    "ax.set_title('Price vs Number of doors');"
   ]
  },
  {
   "cell_type": "markdown",
   "metadata": {},
   "source": [
    "In the box plot for Price vs Number of doors, price has no significant difference between two and four doors car."
   ]
  },
  {
   "cell_type": "markdown",
   "metadata": {},
   "source": [
    "Since there are only two variables, so using t-test is more appropriate."
   ]
  },
  {
   "cell_type": "code",
   "execution_count": 48,
   "metadata": {},
   "outputs": [
    {
     "data": {
      "text/plain": [
       "DegFreedom    167.777043\n",
       "Difference     -0.103772\n",
       "Statistic      -1.413379\n",
       "PValue          0.159397\n",
       "Low95CI        -0.248721\n",
       "High95CI        0.041177\n",
       "dtype: float64"
      ]
     },
     "execution_count": 48,
     "metadata": {},
     "output_type": "execute_result"
    }
   ],
   "source": [
    "door = t_test(doors2['two'], doors2['four'], 0.05)\n",
    "door"
   ]
  },
  {
   "cell_type": "markdown",
   "metadata": {},
   "source": [
    "Thethe p-value is large. We cannot  reject the null hypothesis that variables have the same mean.\n",
    "\n",
    "Price for two and four doors car has no difference."
   ]
  },
  {
   "cell_type": "markdown",
   "metadata": {},
   "source": [
    "#### Price vs drive-wheels"
   ]
  },
  {
   "cell_type": "code",
   "execution_count": 49,
   "metadata": {},
   "outputs": [],
   "source": [
    "#create a dict for different variables for drive-wheels category\n",
    "dw_list = df['drive-wheels'].unique().tolist()\n",
    "dw={}\n",
    "for i in dw_list:\n",
    "    dw[i]= [df[df['drive-wheels'] == i]['log price'].values.tolist()]\n",
    "    \n",
    "dw2 = {}\n",
    "for i in dw_list:\n",
    "    dw2[i] = pd.Series(dw[i][0])"
   ]
  },
  {
   "cell_type": "code",
   "execution_count": 50,
   "metadata": {},
   "outputs": [
    {
     "data": {
      "image/png": "[encoded data removed]",
      "text/plain": [
       "<Figure size 432x288 with 1 Axes>"
      ]
     },
     "metadata": {
      "needs_background": "light"
     },
     "output_type": "display_data"
    }
   ],
   "source": [
    "fig = plt.figure()\n",
    "ax = fig.add_subplot(111)\n",
    "ax.boxplot([dw2['rwd'], dw2['fwd'], dw2['4wd']])\n",
    "ax.set_xticklabels(['rwd', 'fwd', '4wd'], rotation ='vertical')\n",
    "ax.set_xlabel('Drive Wheels')\n",
    "ax.set_ylabel('Price')\n",
    "ax.set_title('Price vs Drive Wheels');"
   ]
  },
  {
   "cell_type": "markdown",
   "metadata": {},
   "source": [
    "In this Price vs Drive Wheels comparison, price for rwd is higher than fwd and 4wd."
   ]
  },
  {
   "cell_type": "code",
   "execution_count": 51,
   "metadata": {},
   "outputs": [
    {
     "name": "stdout",
     "output_type": "stream",
     "text": [
      "F statistic = 88.457041524516\n",
      "P-value = 3.553122325860982e-28\n"
     ]
    }
   ],
   "source": [
    "f_statistic, p_value = ss.f_oneway(dw2['rwd'], dw2['fwd'], dw2['4wd'])\n",
    "print('F statistic = ' + str(f_statistic))\n",
    "print('P-value = ' + str(p_value))"
   ]
  },
  {
   "cell_type": "markdown",
   "metadata": {},
   "source": [
    "The F statistic is fairly large and the p-value is small. We can reject the null hypothesis that variables have the same mean.\n",
    "\n",
    "From the above ANOVA results we know that there is a difference in the means of these variables.However, the ANOVA does not tell us which variable is significantly different. So we need to perform HSD test."
   ]
  },
  {
   "cell_type": "code",
   "execution_count": 52,
   "metadata": {},
   "outputs": [
    {
     "name": "stdout",
     "output_type": "stream",
     "text": [
      "Multiple Comparison of Means - Tukey HSD, FWER=0.05\n",
      "===================================================\n",
      "group1 group2 meandiff p-adj   lower  upper  reject\n",
      "---------------------------------------------------\n",
      "   4wd    fwd   -0.119 0.6367 -0.4355 0.1975  False\n",
      "   4wd    rwd   0.5986  0.001  0.2764 0.9208   True\n",
      "   fwd    rwd   0.7176  0.001  0.5896 0.8455   True\n",
      "---------------------------------------------------\n"
     ]
    }
   ],
   "source": [
    "dw_final = pd.DataFrame({'vals' :dw2['rwd'].tolist() + dw2['fwd'].tolist() + dw2['4wd'].tolist(), \n",
    "                           'group_num': ['rwd']*len(dw2['rwd']) + ['fwd']*len(dw2['fwd']) + ['4wd']*len(dw2['4wd'])})\n",
    "Tukey_HSD = pairwise_tukeyhsd(dw_final.vals, dw_final.group_num)\n",
    "print(Tukey_HSD)"
   ]
  },
  {
   "cell_type": "markdown",
   "metadata": {},
   "source": [
    "In this statsitic summary, difference between variables can be viewed in the last column. True means that there is difference between two variables. For example, 4wd and fwd, p value is 0.89, greater than 0.05, so we cannot reject null hypothesis, suggesting that there is no difference between fwd and 4wd, which also agrees with the box plot."
   ]
  },
  {
   "cell_type": "code",
   "execution_count": 53,
   "metadata": {},
   "outputs": [
    {
     "data": {
      "image/png": "[encoded data removed]",
      "text/plain": [
       "<Figure size 720x432 with 1 Axes>"
      ]
     },
     "execution_count": 53,
     "metadata": {},
     "output_type": "execute_result"
    },
    {
     "data": {
      "image/png": "[encoded data removed]",
      "text/plain": [
       "<Figure size 720x432 with 1 Axes>"
      ]
     },
     "metadata": {
      "needs_background": "light"
     },
     "output_type": "display_data"
    }
   ],
   "source": [
    "Tukey_HSD.plot_simultaneous()"
   ]
  },
  {
   "cell_type": "markdown",
   "metadata": {},
   "source": [
    "Examine the plot above. There is a line with a dot shown for each variable. The dot is the mean and the line shows the range of the confidence interval for that mean. Take 4wd and fwd for example. Confidence interval for these two varibales actually overlap with each other, so we cannot reject the null hypothesis. "
   ]
  },
  {
   "cell_type": "markdown",
   "metadata": {},
   "source": [
    "#### Price vs  engine-location"
   ]
  },
  {
   "cell_type": "code",
   "execution_count": 54,
   "metadata": {},
   "outputs": [],
   "source": [
    "#create a dict for varibels in engine-location category\n",
    "el_list = df['engine-location'].unique().tolist()\n",
    "el={}\n",
    "for i in el_list:\n",
    "    el[i]= [df[df['engine-location'] == i]['log price'].values.tolist()]\n",
    "    \n",
    "el2 = {}\n",
    "for i in el_list:\n",
    "    el2[i] = pd.Series(el[i][0])"
   ]
  },
  {
   "cell_type": "code",
   "execution_count": 55,
   "metadata": {},
   "outputs": [
    {
     "data": {
      "image/png": "[encoded data removed]",
      "text/plain": [
       "<Figure size 432x288 with 1 Axes>"
      ]
     },
     "metadata": {
      "needs_background": "light"
     },
     "output_type": "display_data"
    }
   ],
   "source": [
    "fig = plt.figure()\n",
    "ax = fig.add_subplot(111)\n",
    "ax.boxplot([el2['front'], el2['rear']])\n",
    "ax.set_xticklabels(['front', 'rear'], rotation ='vertical')\n",
    "ax.set_xlabel('Engine Location')\n",
    "ax.set_ylabel('Price')\n",
    "ax.set_title('Price vs Engine Location');"
   ]
  },
  {
   "cell_type": "markdown",
   "metadata": {},
   "source": [
    "In this price vs engine location plot, price for rear engine location is higher than front engine car."
   ]
  },
  {
   "cell_type": "markdown",
   "metadata": {},
   "source": [
    "Since there are only two groups, t-test is used instead of ANOVA."
   ]
  },
  {
   "cell_type": "code",
   "execution_count": 56,
   "metadata": {},
   "outputs": [
    {
     "data": {
      "text/plain": [
       "DegFreedom    6.661318e+00\n",
       "Difference   -1.114596e+00\n",
       "Statistic    -2.168738e+01\n",
       "PValue        1.986190e-07\n",
       "Low95CI      -1.237387e+00\n",
       "High95CI     -9.918054e-01\n",
       "dtype: float64"
      ]
     },
     "execution_count": 56,
     "metadata": {},
     "output_type": "execute_result"
    }
   ],
   "source": [
    "el = t_test(el2['front'], el2['rear'], 0.05)\n",
    "el"
   ]
  },
  {
   "cell_type": "markdown",
   "metadata": {},
   "source": [
    "Thethe p-value is small. We can reject the null hypothesis that variables have the same mean.\n",
    "\n",
    "Price for rear engine car is more expensive than front engine car."
   ]
  },
  {
   "cell_type": "markdown",
   "metadata": {},
   "source": [
    "#### Price vs engine-type"
   ]
  },
  {
   "cell_type": "code",
   "execution_count": 57,
   "metadata": {},
   "outputs": [
    {
     "data": {
      "text/plain": [
       "array(['dohc', 'ohcv', 'ohc', 'l', 'rotor', 'ohcf'], dtype=object)"
      ]
     },
     "execution_count": 57,
     "metadata": {},
     "output_type": "execute_result"
    }
   ],
   "source": [
    "df['engine-type'].unique()"
   ]
  },
  {
   "cell_type": "code",
   "execution_count": 58,
   "metadata": {},
   "outputs": [],
   "source": [
    "#create a dict for varibels in engine-type category\n",
    "et_list = df['engine-type'].unique().tolist()\n",
    "et={}\n",
    "for i in et_list:\n",
    "    et[i]= [df[df['engine-type'] == i]['log price'].values.tolist()]\n",
    "    \n",
    "et2 = {}\n",
    "for i in et_list:\n",
    "    et2[i] = pd.Series(et[i][0])"
   ]
  },
  {
   "cell_type": "code",
   "execution_count": 59,
   "metadata": {},
   "outputs": [
    {
     "data": {
      "image/png": "[encoded data removed]",
      "text/plain": [
       "<Figure size 432x288 with 1 Axes>"
      ]
     },
     "metadata": {
      "needs_background": "light"
     },
     "output_type": "display_data"
    }
   ],
   "source": [
    "fig = plt.figure()\n",
    "ax = fig.add_subplot(111)\n",
    "ax.boxplot([et2['dohc'], et2['ohcv'], et2['ohc'], et2['l'], et2['rotor'], et2['ohcf']])\n",
    "ax.set_xticklabels(['dohc', 'ohcv', 'ohc','l','rotor','ohcf'], rotation ='vertical')\n",
    "ax.set_xlabel('Engine type')\n",
    "ax.set_ylabel('Price')\n",
    "ax.set_title('Price vs Engine type');"
   ]
  },
  {
   "cell_type": "markdown",
   "metadata": {},
   "source": [
    "In thi Price vs Engine type plot, we can roughly divided into two groups, high price vs low price. High price group is dohc, ohcv,l, rotor; ohc and ohcf would be low price group. The more formal analysis is performed below using ANOVA"
   ]
  },
  {
   "cell_type": "code",
   "execution_count": 60,
   "metadata": {},
   "outputs": [
    {
     "name": "stdout",
     "output_type": "stream",
     "text": [
      "F statistic = 9.755399850009487\n",
      "P-value = 2.470247592772414e-08\n"
     ]
    }
   ],
   "source": [
    "f_statistic, p_value = ss.f_oneway(et2['dohc'], et2['ohcv'], et2['ohc'], et2['l'], et2['rotor'], et2['ohcf'])\n",
    "print('F statistic = ' + str(f_statistic))\n",
    "print('P-value = ' + str(p_value))"
   ]
  },
  {
   "cell_type": "markdown",
   "metadata": {},
   "source": [
    "The F statistic is fairly large and the p-value is small. We can reject the null hypothesis that variables have the same mean.\n",
    "\n",
    "From the above ANOVA results we know that there is a difference in the means of these variables.However, the ANOVA does not tell us which variable is significantly different. So we need to perform HSD test."
   ]
  },
  {
   "cell_type": "code",
   "execution_count": 61,
   "metadata": {},
   "outputs": [
    {
     "name": "stdout",
     "output_type": "stream",
     "text": [
      "Multiple Comparison of Means - Tukey HSD, FWER=0.05 \n",
      "====================================================\n",
      "group1 group2 meandiff p-adj   lower   upper  reject\n",
      "----------------------------------------------------\n",
      "  dohc      l  -0.1815    0.9 -0.7161  0.3531  False\n",
      "  dohc    ohc  -0.4867 0.0061   -0.88 -0.0933   True\n",
      "  dohc   ohcf  -0.4163  0.175 -0.9234  0.0909  False\n",
      "  dohc   ohcv   0.3087 0.5314 -0.2155  0.8329  False\n",
      "  dohc  rotor  -0.2635    0.9 -1.0195  0.4924  False\n",
      "     l    ohc  -0.3052 0.2275 -0.6985  0.0882  False\n",
      "     l   ohcf  -0.2348 0.7393 -0.7419  0.2724  False\n",
      "     l   ohcv   0.4902 0.0817  -0.034  1.0144  False\n",
      "     l  rotor   -0.082    0.9  -0.838  0.6739  False\n",
      "   ohc   ohcf   0.0704    0.9 -0.2847  0.4255  False\n",
      "   ohc   ohcv   0.7954  0.001  0.4163  1.1745   True\n",
      "   ohc  rotor   0.2231    0.9 -0.4405  0.8868  False\n",
      "  ohcf   ohcv    0.725  0.001  0.2288  1.2211   True\n",
      "  ohcf  rotor   0.1527    0.9 -0.5841  0.8896  False\n",
      "  ohcv  rotor  -0.5722 0.2423 -1.3209  0.1764  False\n",
      "----------------------------------------------------\n"
     ]
    }
   ],
   "source": [
    "et_final = pd.DataFrame({'vals' :et2['dohc'].tolist() + et2['ohcv'].tolist() + \n",
    "                         et2['ohc'].tolist() + et2['l'].tolist() + et2['rotor'].tolist() +\n",
    "                         et2['ohcf'].tolist(),\n",
    "                        'group_num': ['dohc'] * len (et2['dohc']) + ['ohcv'] * len(et2['ohcv']) +\n",
    "                         ['ohc'] * len(et2['ohc']) +['l']*len(et2['l']) + ['rotor'] * len(et2['rotor']) +\n",
    "                         ['ohcf']* len( et2['ohcf'])})\n",
    "Tukey_HSD = pairwise_tukeyhsd(et_final.vals, et_final.group_num)\n",
    "print(Tukey_HSD)"
   ]
  },
  {
   "cell_type": "markdown",
   "metadata": {},
   "source": [
    "In this statsitic summary, difference between variables can be viewed in the last column. True means that there is difference between two variables. For example, dohc and l, p value is 0.82, greater than 0.05, so we cannot reject null hypothesis, suggesting that there is no difference between dohc and l, which also agrees with the box plot."
   ]
  },
  {
   "cell_type": "code",
   "execution_count": 62,
   "metadata": {},
   "outputs": [
    {
     "data": {
      "image/png": "[encoded data removed]",
      "text/plain": [
       "<Figure size 720x432 with 1 Axes>"
      ]
     },
     "execution_count": 62,
     "metadata": {},
     "output_type": "execute_result"
    },
    {
     "data": {
      "image/png": "[encoded data removed]",
      "text/plain": [
       "<Figure size 720x432 with 1 Axes>"
      ]
     },
     "metadata": {
      "needs_background": "light"
     },
     "output_type": "display_data"
    }
   ],
   "source": [
    "Tukey_HSD.plot_simultaneous()"
   ]
  },
  {
   "cell_type": "markdown",
   "metadata": {},
   "source": [
    "Examine the plot above. There is a line with a dot shown for each variable. The dot is the mean and the line shows the range of the confidence interval for that mean. Take dohc and l for example. Confidence interval for these two varibales actually overlap with each other, so we cannot reject the null hypothesis. "
   ]
  },
  {
   "cell_type": "markdown",
   "metadata": {},
   "source": [
    "#### Price vs num-of-cylinders\n"
   ]
  },
  {
   "cell_type": "code",
   "execution_count": 63,
   "metadata": {},
   "outputs": [
    {
     "data": {
      "text/plain": [
       "{'four': 0       9.510075\n",
       " 1       9.711116\n",
       " 2       9.543235\n",
       " 3       9.706864\n",
       " 4       9.736547\n",
       "          ...    \n",
       " 152     9.821192\n",
       " 153     9.849559\n",
       " 154     9.731809\n",
       " 155     9.854560\n",
       " 156    10.026811\n",
       " Length: 157, dtype: float64,\n",
       " 'six': 0      9.711116\n",
       " 1      9.950848\n",
       " 2      9.957265\n",
       " 3     10.109078\n",
       " 4     10.333970\n",
       " 5     10.628981\n",
       " 6     10.515425\n",
       " 7     10.381273\n",
       " 8     10.478695\n",
       " 9      9.510371\n",
       " 10     9.574914\n",
       " 11     9.510371\n",
       " 12     9.752607\n",
       " 13     9.888323\n",
       " 14     9.820052\n",
       " 15    10.389857\n",
       " 16    10.434939\n",
       " 17    10.519430\n",
       " 18     9.714625\n",
       " 19     9.680219\n",
       " 20     9.660779\n",
       " 21     9.664596\n",
       " 22     9.975110\n",
       " 23    10.019936\n",
       " dtype: float64,\n",
       " 'five': 0     9.767095\n",
       " 1     9.632335\n",
       " 2     9.781885\n",
       " 3     9.847975\n",
       " 4    10.080587\n",
       " 5    10.148471\n",
       " 6    10.248778\n",
       " 7    10.246226\n",
       " 8    10.360912\n",
       " 9     9.495143\n",
       " dtype: float64,\n",
       " 'three': 0    8.546946\n",
       " dtype: float64,\n",
       " 'twelve': 0    10.491274\n",
       " dtype: float64,\n",
       " 'two': 0    9.300638\n",
       " 1    9.379661\n",
       " 2    9.521128\n",
       " 3    9.657907\n",
       " dtype: float64,\n",
       " 'eight': 0    10.439513\n",
       " 1    10.464702\n",
       " 2    10.620351\n",
       " 3    10.723267\n",
       " dtype: float64}"
      ]
     },
     "execution_count": 63,
     "metadata": {},
     "output_type": "execute_result"
    }
   ],
   "source": [
    "#create a dict for varibels in num-of-cylinders category\n",
    "c_list = df['num-of-cylinders'].unique().tolist()\n",
    "c={}\n",
    "for i in c_list:\n",
    "    c[i]= [df[df['num-of-cylinders'] == i]['log price'].values.tolist()]\n",
    "    \n",
    "c2 = {}\n",
    "for i in c_list:\n",
    "    c2[i] = pd.Series(c[i][0])\n",
    "c2"
   ]
  },
  {
   "cell_type": "markdown",
   "metadata": {},
   "source": [
    "Note: three and twelve cylinders only have one observations, drop when plotting.\n"
   ]
  },
  {
   "cell_type": "code",
   "execution_count": 64,
   "metadata": {},
   "outputs": [
    {
     "data": {
      "image/png": "[encoded data removed]",
      "text/plain": [
       "<Figure size 432x288 with 1 Axes>"
      ]
     },
     "metadata": {
      "needs_background": "light"
     },
     "output_type": "display_data"
    }
   ],
   "source": [
    "fig = plt.figure()\n",
    "ax = fig.add_subplot(111)\n",
    "ax.boxplot([c2['four'], c2['six'], c2['five'], c2['two'], c2['eight']])\n",
    "ax.set_xticklabels(['four', 'six', 'five', 'two', 'eight'], rotation ='vertical')\n",
    "ax.set_xlabel('Number of cylinders')\n",
    "ax.set_ylabel('Price')\n",
    "ax.set_title('Price vs Num of cylinders');"
   ]
  },
  {
   "cell_type": "markdown",
   "metadata": {},
   "source": [
    "In this Price vs Num of cylingers box plot, two and four cylinders have the lowest price,  five and six cylinders have the middle price, while cars with eight cylinders are the most expensive in general. A more formal analysis is performed below using ANOVA."
   ]
  },
  {
   "cell_type": "code",
   "execution_count": 65,
   "metadata": {},
   "outputs": [
    {
     "name": "stdout",
     "output_type": "stream",
     "text": [
      "F statistic = 51.00015851520591\n",
      "P-value = 2.7115058228315566e-29\n"
     ]
    }
   ],
   "source": [
    "f_statistic, p_value = ss.f_oneway(c2['four'], c2['six'], c2['five'], c2['two'], c2['eight'])\n",
    "print('F statistic = ' + str(f_statistic))\n",
    "print('P-value = ' + str(p_value))"
   ]
  },
  {
   "cell_type": "markdown",
   "metadata": {},
   "source": [
    "The F statistic is fairly large and the p-value is small. We can reject the null hypothesis that variables have the same mean.\n",
    "\n",
    "From the above ANOVA results we know that there is a difference in the means of these variables.However, the ANOVA does not tell us which variable is significantly different. So we need to perform HSD test"
   ]
  },
  {
   "cell_type": "code",
   "execution_count": 66,
   "metadata": {},
   "outputs": [
    {
     "name": "stdout",
     "output_type": "stream",
     "text": [
      "Multiple Comparison of Means - Tukey HSD, FWER=0.05 \n",
      "====================================================\n",
      "group1 group2 meandiff p-adj   lower   upper  reject\n",
      "----------------------------------------------------\n",
      " eight   five   -0.601 0.0326 -1.1697 -0.0323   True\n",
      " eight   four  -1.3872  0.001 -1.8739 -0.9005   True\n",
      " eight    six  -0.5543 0.0299 -1.0735 -0.0352   True\n",
      " eight    two  -1.0971  0.001 -1.7769 -0.4174   True\n",
      "  five   four  -0.7862  0.001 -1.0997 -0.4727   True\n",
      "  five    six   0.0467    0.9 -0.3151  0.4085  False\n",
      "  five    two  -0.4961 0.1193 -1.0648  0.0726  False\n",
      "  four    six   0.8329  0.001  0.6222  1.0436   True\n",
      "  four    two   0.2901  0.474 -0.1966  0.7768  False\n",
      "   six    two  -0.5428 0.0355 -1.0619 -0.0236   True\n",
      "----------------------------------------------------\n"
     ]
    }
   ],
   "source": [
    "c_final = pd.DataFrame({'vals' :c2['four'].tolist()  + c2['six'].tolist()+ c2['five'].tolist()+\n",
    "                        c2['two'].tolist() + c2['eight'].tolist(),\n",
    "                        'group_num': ['four'] * len(c2['four']) + ['six']*len (c2['six']) +\n",
    "                        ['five'] * len(c2['five']) +['two'] * len(c2['two']) + ['eight']*len (c2['eight'])})\n",
    "Tukey_HSD = pairwise_tukeyhsd(c_final.vals, c_final.group_num)\n",
    "print(Tukey_HSD)"
   ]
  },
  {
   "cell_type": "markdown",
   "metadata": {},
   "source": [
    "In this statsitic summary, difference between variables can be viewed in the last column. True means that there is difference between two variables. For example, eight and five, p value is 0.001, smaller than 0.05, so we can reject null hypothesis, suggesting that there is a difference between eight and five engines, which also agrees with the box plot"
   ]
  },
  {
   "cell_type": "code",
   "execution_count": 67,
   "metadata": {},
   "outputs": [
    {
     "data": {
      "image/png": "[encoded data removed]",
      "text/plain": [
       "<Figure size 720x432 with 1 Axes>"
      ]
     },
     "execution_count": 67,
     "metadata": {},
     "output_type": "execute_result"
    },
    {
     "data": {
      "image/png": "[encoded data removed]",
      "text/plain": [
       "<Figure size 720x432 with 1 Axes>"
      ]
     },
     "metadata": {
      "needs_background": "light"
     },
     "output_type": "display_data"
    }
   ],
   "source": [
    "Tukey_HSD.plot_simultaneous()"
   ]
  },
  {
   "cell_type": "markdown",
   "metadata": {},
   "source": [
    "Examine the plot above. There is a line with a dot shown for each variable. The dot is the mean and the line shows the range of the confidence interval for that mean. Take eight and five for example. Confidence interval for these two varibales do not overlap with each other, so we can reject the null hypothesis. "
   ]
  },
  {
   "cell_type": "markdown",
   "metadata": {},
   "source": [
    "#### Prive vs Fuel system"
   ]
  },
  {
   "cell_type": "code",
   "execution_count": 68,
   "metadata": {},
   "outputs": [
    {
     "data": {
      "text/plain": [
       "{'mpfi': 0      9.510075\n",
       " 1      9.711116\n",
       " 2      9.711116\n",
       " 3      9.543235\n",
       " 4      9.767095\n",
       "         ...    \n",
       " 87     9.849559\n",
       " 88     9.731809\n",
       " 89     9.854560\n",
       " 90     9.975110\n",
       " 91    10.026811\n",
       " Length: 92, dtype: float64,\n",
       " '2bbl': 0     8.546946\n",
       " 1     8.747511\n",
       " 2     8.791030\n",
       " 3     8.625509\n",
       " 4     8.760453\n",
       "         ...   \n",
       " 59    8.953899\n",
       " 60    9.030974\n",
       " 61    9.133243\n",
       " 62    8.994421\n",
       " 63    9.016513\n",
       " Length: 64, dtype: float64,\n",
       " 'mfi': 0    9.469932\n",
       " dtype: float64,\n",
       " '1bbl': 0     8.776321\n",
       " 1     8.832734\n",
       " 2     8.593969\n",
       " 3     8.784009\n",
       " 4     8.871926\n",
       " 5     8.894944\n",
       " 6     8.894944\n",
       " 7     8.973985\n",
       " 8     9.115480\n",
       " 9     9.087608\n",
       " 10    9.239414\n",
       " dtype: float64,\n",
       " 'spfi': 0    9.310005\n",
       " dtype: float64,\n",
       " '4bbl': 0    9.300638\n",
       " 1    9.379661\n",
       " 2    9.521128\n",
       " dtype: float64,\n",
       " 'idi': 0      9.286838\n",
       " 1      9.817058\n",
       " 2     10.148471\n",
       " 3     10.248778\n",
       " 4     10.246226\n",
       " 5     10.360912\n",
       " 6      8.867709\n",
       " 7      9.487972\n",
       " 8      9.536762\n",
       " 9      9.735069\n",
       " 10     9.745371\n",
       " 11     9.795345\n",
       " 12     8.974365\n",
       " 13     8.960339\n",
       " 14     9.277812\n",
       " 15     8.958669\n",
       " 16     8.986572\n",
       " 17     9.158521\n",
       " 18     9.535679\n",
       " 19    10.019936\n",
       " dtype: float64,\n",
       " 'spdi': 0    8.947546\n",
       " 1    9.206232\n",
       " 2    9.443751\n",
       " 3    9.607034\n",
       " 4    9.581145\n",
       " 5    9.135509\n",
       " 6    9.135509\n",
       " 7    8.981807\n",
       " 8    9.454384\n",
       " dtype: float64}"
      ]
     },
     "execution_count": 68,
     "metadata": {},
     "output_type": "execute_result"
    }
   ],
   "source": [
    "#create a dict for varibels in fuel-system category\n",
    "fs_list = df['fuel-system'].unique().tolist()\n",
    "fs={}\n",
    "for i in fs_list:\n",
    "    fs[i]= [df[df['fuel-system'] == i]['log price'].values.tolist()]\n",
    "    \n",
    "fs2 = {}\n",
    "for i in fs_list:\n",
    "    fs2[i] = pd.Series(fs[i][0])\n",
    "fs2"
   ]
  },
  {
   "cell_type": "markdown",
   "metadata": {},
   "source": [
    "mfi, spfi and 4bbl have less than 3 observations, drop when plotting.\n",
    " "
   ]
  },
  {
   "cell_type": "code",
   "execution_count": 69,
   "metadata": {},
   "outputs": [
    {
     "data": {
      "image/png": "[encoded data removed]",
      "text/plain": [
       "<Figure size 432x288 with 1 Axes>"
      ]
     },
     "metadata": {
      "needs_background": "light"
     },
     "output_type": "display_data"
    }
   ],
   "source": [
    "fig = plt.figure()\n",
    "ax = fig.add_subplot(111)\n",
    "ax.boxplot([fs2['mpfi'], fs2['2bbl'], fs2['1bbl'], fs2['idi'], fs2['spdi']])\n",
    "ax.set_xticklabels(['mpfi', '2bbl', '1bbl', 'idi', 'spdi'], rotation ='vertical')\n",
    "ax.set_xlabel('Fuel system')\n",
    "ax.set_ylabel('Price')\n",
    "ax.set_title('Price vs Fuel system');"
   ]
  },
  {
   "cell_type": "markdown",
   "metadata": {},
   "source": [
    "In this Price vs Fuel system plot, two groups can be roughly divided. High price group includes mpfi, idi and spdi; while low price group includes 2bbl and 1bbl."
   ]
  },
  {
   "cell_type": "code",
   "execution_count": 70,
   "metadata": {},
   "outputs": [
    {
     "name": "stdout",
     "output_type": "stream",
     "text": [
      "F statistic = 50.70042160690783\n",
      "P-value = 4.900245053363258e-29\n"
     ]
    }
   ],
   "source": [
    "f_statistic, p_value = ss.f_oneway(fs2['mpfi'], fs2['2bbl'], fs2['1bbl'], fs2['idi'], fs2['spdi'])\n",
    "print('F statistic = ' + str(f_statistic))\n",
    "print('P-value = ' + str(p_value))"
   ]
  },
  {
   "cell_type": "markdown",
   "metadata": {},
   "source": [
    "The F statistic is fairly large and the p-value is small. We can reject the null hypothesis that variables have the same mean.\n",
    "\n",
    "From the above ANOVA results we know that there is a difference in the means of these variables.However, the ANOVA does not tell us which variable is significantly different. So we need to perform HSD test"
   ]
  },
  {
   "cell_type": "code",
   "execution_count": 71,
   "metadata": {},
   "outputs": [
    {
     "name": "stdout",
     "output_type": "stream",
     "text": [
      "Multiple Comparison of Means - Tukey HSD, FWER=0.05 \n",
      "====================================================\n",
      "group1 group2 meandiff p-adj   lower   upper  reject\n",
      "----------------------------------------------------\n",
      "  1bbl   2bbl   -0.018    0.9 -0.3396  0.3036  False\n",
      "  1bbl    idi   0.6424  0.001  0.2725  1.0122   True\n",
      "  1bbl   mpfi   0.7619  0.001  0.4476  1.0762   True\n",
      "  1bbl   spdi    0.362 0.1659 -0.0809  0.8048  False\n",
      "  2bbl    idi   0.6604  0.001   0.408  0.9128   True\n",
      "  2bbl   mpfi   0.7799  0.001  0.6196  0.9403   True\n",
      "  2bbl   spdi     0.38 0.0264  0.0292  0.7308   True\n",
      "   idi   mpfi   0.1195 0.6377 -0.1236  0.3626  False\n",
      "   idi   spdi  -0.2804 0.2934 -0.6759  0.1151  False\n",
      "  mpfi   spdi  -0.3999 0.0137 -0.7441 -0.0558   True\n",
      "----------------------------------------------------\n"
     ]
    }
   ],
   "source": [
    "f_final = pd.DataFrame({'vals' :fs2['mpfi'].tolist() + fs2['2bbl'].tolist() + fs2['1bbl'].tolist() +\n",
    "                        fs2['idi'].tolist() + fs2['spdi'].tolist(),\n",
    "                        'group_num': ['mpfi'] * len(fs2['mpfi']) + ['2bbl']*len(fs2['2bbl'])  + \n",
    "                        ['1bbl'] * len(fs2['1bbl']) + ['idi']* len( fs2['idi']) + ['spdi'] * len(fs2['spdi'])})\n",
    "Tukey_HSD = pairwise_tukeyhsd(f_final.vals, f_final.group_num)\n",
    "print(Tukey_HSD)"
   ]
  },
  {
   "cell_type": "markdown",
   "metadata": {},
   "source": [
    "In this statsitic summary, difference between variables can be viewed in the last column. True means that there is difference between two variables. For example, 1bbl and 2bbl, p value is 0.9, greater than 0.05, so we cannot reject null hypothesis, suggesting that there is no difference between 1bbl and 2bbl engines, which also agrees with the box plot"
   ]
  },
  {
   "cell_type": "code",
   "execution_count": 72,
   "metadata": {},
   "outputs": [
    {
     "data": {
      "image/png": "[encoded data removed]",
      "text/plain": [
       "<Figure size 720x432 with 1 Axes>"
      ]
     },
     "execution_count": 72,
     "metadata": {},
     "output_type": "execute_result"
    },
    {
     "data": {
      "image/png": "[encoded data removed]",
      "text/plain": [
       "<Figure size 720x432 with 1 Axes>"
      ]
     },
     "metadata": {
      "needs_background": "light"
     },
     "output_type": "display_data"
    }
   ],
   "source": [
    "Tukey_HSD.plot_simultaneous()"
   ]
  },
  {
   "cell_type": "markdown",
   "metadata": {},
   "source": [
    "Examine the plot above. There is a line with a dot shown for each variable. The dot is the mean and the line shows the range of the confidence interval for that mean. Take 1bbl and 2bbl for example. Confidence interval for these two varibales overlap with each other, so we cannot reject the null hypothesis. "
   ]
  },
  {
   "cell_type": "markdown",
   "metadata": {},
   "source": [
    "Short summary:\n",
    "1.\tLog price is better represented as normal distribution than price.\n",
    "2.\tFor two variable categories:\t\n",
    "    a.\tdiesel car is more expensive than gas car.\n",
    "    b.\tTurbo car is more expensive than std car.\n",
    "    c.\tRwd car is more expensive than fwd car\n",
    "3. For multiple varible categories, they've all been plotted and analyzed using ANOVA. Please read interested categories. \n"
   ]
  }
 ],
 "metadata": {
  "kernelspec": {
   "display_name": "Python 3",
   "language": "python",
   "name": "python3"
  },
  "language_info": {
   "codemirror_mode": {
    "name": "ipython",
    "version": 3
   },
   "file_extension": ".py",
   "mimetype": "text/x-python",
   "name": "python",
   "nbconvert_exporter": "python",
   "pygments_lexer": "ipython3",
   "version": "3.7.6"
  }
 },
 "nbformat": 4,
 "nbformat_minor": 2
}
